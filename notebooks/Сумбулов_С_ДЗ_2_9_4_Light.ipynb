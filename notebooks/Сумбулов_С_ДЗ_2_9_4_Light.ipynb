{
  "cells": [
    {
      "cell_type": "markdown",
      "metadata": {
        "id": "MH-3kVwvJYeP"
      },
      "source": [
        "\n",
        "# 2.9.4 Форматы файлов, кодировки и сохранение данных. Работа с файлами и каталогами"
      ]
    },
    {
      "cell_type": "markdown",
      "metadata": {
        "id": "gMwyKhlQJ1mf"
      },
      "source": [
        "## Задание 1"
      ]
    },
    {
      "cell_type": "markdown",
      "metadata": {
        "id": "Owu684lKKrjJ"
      },
      "source": [
        "**Условие:**\n",
        "Методами модуля ```os``` вывести содержание папки ```sample_data``` из корневой директории Google Colab.\n",
        "\n"
      ]
    },
    {
      "cell_type": "markdown",
      "metadata": {
        "id": "OCTvo3fHLaaJ"
      },
      "source": [
        "**Решение:**"
      ]
    },
    {
      "cell_type": "code",
      "execution_count": null,
      "metadata": {
        "colab": {
          "base_uri": "https://localhost:8080/"
        },
        "id": "f9_8IGndLeRO",
        "outputId": "6037f538-cb71-427b-ba04-02b74bc00878"
      },
      "outputs": [
        {
          "output_type": "stream",
          "name": "stdout",
          "text": [
            "Содержание папки 'sample_data':\n",
            "README.md\n",
            "anscombe.json\n",
            "mnist_test.csv\n",
            "california_housing_test.csv\n",
            "mnist_train_small.csv\n",
            "california_housing_train.csv\n"
          ]
        }
      ],
      "source": [
        "import os\n",
        "\n",
        "# Путь к папке 'sample_data' в Google Colab\n",
        "folder_path = \"/content/sample_data\"\n",
        "\n",
        "# Вывод содержимого папки\n",
        "folder_contents = os.listdir(folder_path)\n",
        "\n",
        "print(\"Содержание папки 'sample_data':\")\n",
        "for item in folder_contents:\n",
        "    print(item)"
      ]
    },
    {
      "cell_type": "markdown",
      "metadata": {
        "id": "g5S0h2-wKfGE"
      },
      "source": [
        "## Задание 2"
      ]
    },
    {
      "cell_type": "markdown",
      "metadata": {
        "id": "orX7BUzcPKKf"
      },
      "source": [
        "**Условие:**\n",
        "Создайте произвольный словарь из 10 элементов. Сохраните его в файл в формате ```.json```. Считайте данные из полученного файла в новый словарь и пересохраните его в формате ```.pickle```. Из вновь полученного файла считайте данные в новый словарь и сравните его с изначальным словарем.\n",
        "\n"
      ]
    },
    {
      "cell_type": "markdown",
      "metadata": {
        "id": "ESSLfwqEPKKn"
      },
      "source": [
        "**Решение:**"
      ]
    },
    {
      "cell_type": "code",
      "execution_count": null,
      "metadata": {
        "colab": {
          "base_uri": "https://localhost:8080/"
        },
        "id": "y8HOlaNLPKKq",
        "outputId": "9853d50e-b28e-4f83-d7cc-4d1cb531357a"
      },
      "outputs": [
        {
          "output_type": "stream",
          "name": "stdout",
          "text": [
            "Сравнение изначального словаря и словаря после двойной конвертации:\n",
            "Изначальный словарь:\n",
            "{'name': 'Alice', 'age': 30, 'city': 'New York', 'interests': ['reading', 'traveling'], 'is_student': False, 'pets': {'dog': 'Buddy', 'cat': 'Whiskers'}}\n",
            "\n",
            "Словарь после двойной конвертации:\n",
            "{'name': 'Alice', 'age': 30, 'city': 'New York', 'interests': ['reading', 'traveling'], 'is_student': False, 'pets': {'dog': 'Buddy', 'cat': 'Whiskers'}}\n",
            "\n",
            "Словари идентичны.\n"
          ]
        }
      ],
      "source": [
        "import json\n",
        "import pickle\n",
        "\n",
        "# Изначальный словарь\n",
        "initial_dict = {\n",
        "    \"name\": \"Alice\",\n",
        "    \"age\": 30,\n",
        "    \"city\": \"New York\",\n",
        "    \"interests\": [\"reading\", \"traveling\"],\n",
        "    \"is_student\": False,\n",
        "    \"pets\": {\"dog\": \"Buddy\", \"cat\": \"Whiskers\"}\n",
        "}\n",
        "\n",
        "# Сохранение словаря в файл формата .json\n",
        "json_file = 'initial_dict.json'\n",
        "with open(json_file, 'w') as f:\n",
        "    json.dump(initial_dict, f)\n",
        "\n",
        "# Чтение данных из .json файла в новый словарь\n",
        "with open(json_file, 'r') as f:\n",
        "    json_dict = json.load(f)\n",
        "\n",
        "# Сохранение нового словаря в файл формата .pickle\n",
        "pickle_file = 'json_dict.pickle'\n",
        "with open(pickle_file, 'wb') as f:\n",
        "    pickle.dump(json_dict, f)\n",
        "\n",
        "# Чтение данных из .pickle файла в новый словарь\n",
        "with open(pickle_file, 'rb') as f:\n",
        "    loaded_pickle_dict = pickle.load(f)\n",
        "\n",
        "# Сравнение изначального словаря и словаря после двойной конвертации\n",
        "print(\"Сравнение изначального словаря и словаря после двойной конвертации:\")\n",
        "print(\"Изначальный словарь:\")\n",
        "print(initial_dict)\n",
        "print(\"\\nСловарь после двойной конвертации:\")\n",
        "print(loaded_pickle_dict)\n",
        "\n",
        "# Проверка на идентичность двух словарей\n",
        "if initial_dict == loaded_pickle_dict:\n",
        "    print(\"\\nСловари идентичны.\")\n",
        "else:\n",
        "    print(\"\\nСловари не идентичны.\")"
      ]
    }
  ],
  "metadata": {
    "colab": {
      "provenance": []
    },
    "kernelspec": {
      "display_name": "Python 3 (ipykernel)",
      "language": "python",
      "name": "python3"
    },
    "language_info": {
      "codemirror_mode": {
        "name": "ipython",
        "version": 3
      },
      "file_extension": ".py",
      "mimetype": "text/x-python",
      "name": "python",
      "nbconvert_exporter": "python",
      "pygments_lexer": "ipython3",
      "version": "3.11.7"
    }
  },
  "nbformat": 4,
  "nbformat_minor": 0
}