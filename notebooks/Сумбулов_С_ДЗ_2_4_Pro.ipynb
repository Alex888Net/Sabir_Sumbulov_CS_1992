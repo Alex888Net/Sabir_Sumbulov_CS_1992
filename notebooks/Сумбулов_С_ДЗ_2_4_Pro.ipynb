{
  "cells": [
    {
      "cell_type": "markdown",
      "metadata": {
        "id": "MH-3kVwvJYeP"
      },
      "source": [
        "# 2.4 Управляющие структуры. Условные ветвления и циклы"
      ]
    },
    {
      "cell_type": "markdown",
      "metadata": {
        "id": "gMwyKhlQJ1mf"
      },
      "source": [
        "## Задание 1"
      ]
    },
    {
      "cell_type": "markdown",
      "metadata": {
        "id": "Owu684lKKrjJ"
      },
      "source": [
        "Вычислить приблизительное значение экспоненциальной функции с использованием ряда Тейлора:\n",
        "$$\n",
        "e^x=\\sum_{n=0}^{100} {\\frac {x^n} {n!}}.\n",
        "$$\n",
        "Найдите значение $e^{20}$, округленное до 5 знаков после запятой.\n",
        "\n",
        "**Формат ответа:**\n",
        "Число (например, ```3213156.11234```)"
      ]
    },
    {
      "cell_type": "markdown",
      "metadata": {
        "id": "OCTvo3fHLaaJ"
      },
      "source": [
        "**Решение:**"
      ]
    },
    {
      "cell_type": "code",
      "execution_count": null,
      "metadata": {
        "colab": {
          "base_uri": "https://localhost:8080/"
        },
        "id": "f9_8IGndLeRO",
        "outputId": "9b007058-0352-44fa-f144-851bdd056793"
      },
      "outputs": [
        {
          "output_type": "stream",
          "name": "stdout",
          "text": [
            "485165195.40979\n"
          ]
        }
      ],
      "source": [
        "import math\n",
        "\n",
        "result = 0\n",
        "\n",
        "for n in range(0, 101):\n",
        "    result += (20 ** n) / math.factorial(n)\n",
        "\n",
        "print(round(result, 5))"
      ]
    },
    {
      "cell_type": "markdown",
      "metadata": {
        "id": "g5S0h2-wKfGE"
      },
      "source": [
        "## Задание 2"
      ]
    },
    {
      "cell_type": "markdown",
      "metadata": {
        "id": "orX7BUzcPKKf"
      },
      "source": [
        "**Условие:**\n",
        "Найдите среднее арифметическое всех **простых** делителей числа $n$, заданного пользователем. Дайте ответ для $n = 125632$. Требуется сперва получить лист делителей, а потом уже найти среднее арифметическое.\n",
        "\n",
        "**Формат ответа:** Число (например, ```2112.87```)"
      ]
    },
    {
      "cell_type": "markdown",
      "metadata": {
        "id": "ESSLfwqEPKKn"
      },
      "source": [
        "**Решение:**"
      ]
    },
    {
      "cell_type": "code",
      "execution_count": null,
      "metadata": {
        "colab": {
          "base_uri": "https://localhost:8080/"
        },
        "id": "y8HOlaNLPKKq",
        "outputId": "bbfc2178-ff99-48f3-8944-5a064fa3e611"
      },
      "outputs": [
        {
          "output_type": "stream",
          "name": "stdout",
          "text": [
            "55.333333333333336\n"
          ]
        }
      ],
      "source": [
        "n = 125632\n",
        "delimiters = [1]\n",
        "\n",
        "for i in range(2, n//2 + 1):\n",
        "    if n % i == 0:\n",
        "        delimiters.append(i)\n",
        "\n",
        "delimiters.append(n)\n",
        "\n",
        "def is_prime(num):\n",
        "    if num < 2:\n",
        "        return False\n",
        "    for i in range(2, int(num ** 0.5) + 1):\n",
        "        if num % i == 0:\n",
        "            return False\n",
        "    return True\n",
        "\n",
        "primes = [num for num in delimiters if is_prime(num)]\n",
        "average = sum(primes) / len(primes)\n",
        "\n",
        "print(average)"
      ]
    },
    {
      "cell_type": "markdown",
      "metadata": {
        "id": "tq0Fcrg1KfXQ"
      },
      "source": [
        "## Задание 3"
      ]
    },
    {
      "cell_type": "markdown",
      "metadata": {
        "id": "3xp-jyyHPMIb"
      },
      "source": [
        "**Условие:** Создайте игру, в которой пользователь должен угадать заранее случайным образом выбранное целое число от 1 до 100. В случае неправильного ответа программа должна делать подсказки вида: это число меньше(больше), чем загаданное.  Используйте модуль ```random``` и цикл ```while```. Не забудьте поставить условие выхода, например, при вводе символа *. Сыграйте с машиной в эту игру 3 раза(в каждой игре до выигрыша) и укажите среднее значение попыток до успешного угадывания.\n",
        "\n",
        "**Формат ответа:** Число (например, ```8```)"
      ]
    },
    {
      "cell_type": "markdown",
      "metadata": {
        "id": "H5ZlBsI2PMIi"
      },
      "source": [
        "**Решение:**"
      ]
    },
    {
      "cell_type": "code",
      "execution_count": null,
      "metadata": {
        "colab": {
          "base_uri": "https://localhost:8080/",
          "height": 540
        },
        "id": "6amsYUCoPMIn",
        "outputId": "6fee75fe-c9f5-49d0-ba10-87936c26991c"
      },
      "outputs": [
        {
          "output_type": "stream",
          "name": "stdout",
          "text": [
            "Угадайте число от 1 до 100. Для выхода введите *.\n",
            "Введите ваше предположение: 59\n",
            "Это число меньше, чем загаданное.\n",
            "Введите ваше предположение: 20\n",
            "Это число больше, чем загаданное.\n",
            "Введите ваше предположение: 36\n",
            "Это число больше, чем загаданное.\n",
            "Введите ваше предположение: 50\n",
            "Это число меньше, чем загаданное.\n",
            "Введите ваше предположение: 40\n",
            "Это число больше, чем загаданное.\n",
            "Введите ваше предположение: 49\n",
            "Это число меньше, чем загаданное.\n",
            "Введите ваше предположение: 48\n",
            "Это число меньше, чем загаданное.\n",
            "Введите ваше предположение: 43\n",
            "Это число больше, чем загаданное.\n",
            "Введите ваше предположение: 44\n",
            "Поздравляем! Вы угадали число 44 за 9 попыток.\n"
          ]
        },
        {
          "output_type": "error",
          "ename": "NameError",
          "evalue": "name 'guesses' is not defined",
          "traceback": [
            "\u001b[0;31m---------------------------------------------------------------------------\u001b[0m",
            "\u001b[0;31mNameError\u001b[0m                                 Traceback (most recent call last)",
            "\u001b[0;32m<ipython-input-6-23ecf5fa8346>\u001b[0m in \u001b[0;36m<cell line: 34>\u001b[0;34m()\u001b[0m\n\u001b[1;32m     34\u001b[0m \u001b[0;32mfor\u001b[0m \u001b[0m_\u001b[0m \u001b[0;32min\u001b[0m \u001b[0mrange\u001b[0m\u001b[0;34m(\u001b[0m\u001b[0;36m3\u001b[0m\u001b[0;34m)\u001b[0m\u001b[0;34m:\u001b[0m\u001b[0;34m\u001b[0m\u001b[0;34m\u001b[0m\u001b[0m\n\u001b[1;32m     35\u001b[0m     \u001b[0;32mif\u001b[0m \u001b[0mplay_game\u001b[0m\u001b[0;34m(\u001b[0m\u001b[0;34m)\u001b[0m\u001b[0;34m:\u001b[0m\u001b[0;34m\u001b[0m\u001b[0;34m\u001b[0m\u001b[0m\n\u001b[0;32m---> 36\u001b[0;31m         \u001b[0mtotal_guesses\u001b[0m \u001b[0;34m+=\u001b[0m \u001b[0mguesses\u001b[0m\u001b[0;34m\u001b[0m\u001b[0;34m\u001b[0m\u001b[0m\n\u001b[0m\u001b[1;32m     37\u001b[0m \u001b[0;34m\u001b[0m\u001b[0m\n\u001b[1;32m     38\u001b[0m \u001b[0maverage_guesses\u001b[0m \u001b[0;34m=\u001b[0m \u001b[0mtotal_guesses\u001b[0m \u001b[0;34m/\u001b[0m \u001b[0;36m3\u001b[0m\u001b[0;34m\u001b[0m\u001b[0;34m\u001b[0m\u001b[0m\n",
            "\u001b[0;31mNameError\u001b[0m: name 'guesses' is not defined"
          ]
        }
      ],
      "source": [
        "import random\n",
        "\n",
        "def play_game():\n",
        "    number = random.randint(1, 100)\n",
        "    guesses = 0\n",
        "    user_input = None\n",
        "\n",
        "    print(\"Угадайте число от 1 до 100. Для выхода введите *.\")\n",
        "\n",
        "    while user_input != number:\n",
        "        user_input = input(\"Введите ваше предположение: \")\n",
        "\n",
        "        if user_input == \"*\":\n",
        "            return False\n",
        "\n",
        "        try:\n",
        "            user_input = int(user_input)\n",
        "        except ValueError:\n",
        "            print(\"Пожалуйста, введите целое число.\")\n",
        "            continue\n",
        "\n",
        "        guesses += 1\n",
        "\n",
        "        if user_input < number:\n",
        "            print(\"Это число больше, чем загаданное.\")\n",
        "        elif user_input > number:\n",
        "            print(\"Это число меньше, чем загаданное.\")\n",
        "        else:\n",
        "            print(f\"Поздравляем! Вы угадали число {number} за {guesses} попыток.\")\n",
        "\n",
        "    return True\n",
        "\n",
        "total_guesses = 0\n",
        "for _ in range(3):\n",
        "    if play_game():\n",
        "        total_guesses += guesses\n",
        "\n",
        "average_guesses = total_guesses / 3\n",
        "print(f\"Среднее количество попыток до угадывания: {average_guesses}\")"
      ]
    }
  ],
  "metadata": {
    "colab": {
      "provenance": []
    },
    "kernelspec": {
      "display_name": "Python 3 (ipykernel)",
      "language": "python",
      "name": "python3"
    },
    "language_info": {
      "codemirror_mode": {
        "name": "ipython",
        "version": 3
      },
      "file_extension": ".py",
      "mimetype": "text/x-python",
      "name": "python",
      "nbconvert_exporter": "python",
      "pygments_lexer": "ipython3",
      "version": "3.11.7"
    }
  },
  "nbformat": 4,
  "nbformat_minor": 0
}