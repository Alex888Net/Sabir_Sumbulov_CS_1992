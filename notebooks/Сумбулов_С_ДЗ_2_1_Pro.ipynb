{
  "cells": [
    {
      "cell_type": "markdown",
      "metadata": {
        "id": "MH-3kVwvJYeP"
      },
      "source": [
        "# 2.1 Быстрое введение. Синтаксические основы языка Python"
      ]
    },
    {
      "cell_type": "markdown",
      "metadata": {
        "id": "gMwyKhlQJ1mf"
      },
      "source": [
        "## Задание 1"
      ]
    },
    {
      "cell_type": "markdown",
      "metadata": {
        "id": "Owu684lKKrjJ"
      },
      "source": [
        "**Условие:**\n",
        "Проверьте истинность выражения $a^2 - b^2 = (a-b)(a+b)$ для 5ти произвольных наборов $(a,b)$. Выведите кортеж из 5ти булевых значений результатов проверки.\n",
        "\n",
        "**Формат ответа:**\n",
        "Кортеж из булевых значений (например, ```(True, False, True,False, True)```)\n"
      ]
    },
    {
      "cell_type": "markdown",
      "metadata": {
        "id": "OCTvo3fHLaaJ"
      },
      "source": [
        "**Решение:**"
      ]
    },
    {
      "cell_type": "code",
      "execution_count": null,
      "metadata": {
        "colab": {
          "base_uri": "https://localhost:8080/"
        },
        "id": "f9_8IGndLeRO",
        "outputId": "99b1c72c-b228-4c43-8b6e-a102334bcdf5"
      },
      "outputs": [
        {
          "output_type": "stream",
          "name": "stdout",
          "text": [
            "(True, True, True, True, True)\n"
          ]
        }
      ],
      "source": [
        "import random\n",
        "\n",
        "results = []\n",
        "\n",
        "for _ in range(5):\n",
        "    a = random.randint(1, 10)\n",
        "    b = random.randint(1, 10)\n",
        "\n",
        "    left_side = a**2 - b**2\n",
        "    right_side = (a - b) * (a + b)\n",
        "\n",
        "    results.append(left_side == right_side)\n",
        "\n",
        "print(tuple(results))"
      ]
    },
    {
      "cell_type": "markdown",
      "metadata": {
        "id": "g5S0h2-wKfGE"
      },
      "source": [
        "## Задание 2"
      ]
    },
    {
      "cell_type": "markdown",
      "metadata": {
        "id": "orX7BUzcPKKf"
      },
      "source": [
        "**Условие:**\n",
        "Напишите функцию возведения числа в квадрат, которая предлагает пользователю ввести указанное число. Запустите функцию и введите ```345.876```. Результат работы функции запишите в ответ.\n",
        "\n",
        "**Формат ответа:**\n",
        "Число (например, ```1235234.23```)\n",
        "\n",
        "**Оценка в баллах:** 3 балла"
      ]
    },
    {
      "cell_type": "code",
      "source": [],
      "metadata": {
        "id": "vAhIxIEXr5dx"
      },
      "execution_count": null,
      "outputs": []
    },
    {
      "cell_type": "markdown",
      "metadata": {
        "id": "ESSLfwqEPKKn"
      },
      "source": [
        "**Решение:**"
      ]
    },
    {
      "cell_type": "code",
      "execution_count": null,
      "metadata": {
        "colab": {
          "base_uri": "https://localhost:8080/"
        },
        "id": "y8HOlaNLPKKq",
        "outputId": "e25c3423-a5a1-40d8-e4d4-1f2528f6550a"
      },
      "outputs": [
        {
          "output_type": "stream",
          "name": "stdout",
          "text": [
            "Введите число: 654.52\n",
            "428396.43039999995\n"
          ]
        }
      ],
      "source": [
        "def square_number():\n",
        "    num = float(input(\"Введите число: \"))\n",
        "    result = num ** 2\n",
        "    return result\n",
        "\n",
        "result = square_number()\n",
        "print(result)"
      ]
    },
    {
      "cell_type": "markdown",
      "metadata": {
        "id": "tq0Fcrg1KfXQ"
      },
      "source": [
        "## Задание 3"
      ]
    },
    {
      "cell_type": "markdown",
      "metadata": {
        "id": "3xp-jyyHPMIb"
      },
      "source": [
        "**Условие:**\n",
        "Напишите функцию, которая предлагает пользователю ввести целое неотрицательное число и выводит на экран кубы всех положительных чисел до введённого участником(числа должны быть больше ```0```, но меньше введенного числа). Запишите в ответ последнее число, которое появилось на экране при работе функции для введенного значения ```27```.\n",
        "\n",
        "**Формат ответа:**\n",
        "Число (например, ```(12350)```)"
      ]
    },
    {
      "cell_type": "markdown",
      "metadata": {
        "id": "H5ZlBsI2PMIi"
      },
      "source": [
        "**Решение:**"
      ]
    },
    {
      "cell_type": "code",
      "execution_count": null,
      "metadata": {
        "id": "GZrCjAjMokrU",
        "outputId": "d42300f7-46ae-4b61-a31c-9c7e74214bbb",
        "colab": {
          "base_uri": "https://localhost:8080/"
        }
      },
      "outputs": [
        {
          "output_type": "stream",
          "name": "stdout",
          "text": [
            "Введите целое неотрицательное число: 12\n",
            "1\n",
            "8\n",
            "27\n",
            "64\n",
            "125\n",
            "216\n",
            "343\n",
            "512\n",
            "729\n",
            "1000\n",
            "1331\n",
            "1331\n"
          ]
        }
      ],
      "source": [
        "def cubes_up_to_n():\n",
        "    n = int(input(\"Введите целое неотрицательное число: \"))\n",
        "    while n <= 0:\n",
        "        n = int(input(\"Пожалуйста, введите число больше 0: \"))\n",
        "\n",
        "    cubes = [i**3 for i in range(1, n)]\n",
        "    for cube in cubes:\n",
        "        print(cube)\n",
        "\n",
        "    return cubes[-1]\n",
        "\n",
        "result = cubes_up_to_n()\n",
        "print(result)"
      ]
    }
  ],
  "metadata": {
    "colab": {
      "provenance": []
    },
    "kernelspec": {
      "display_name": "Python 3 (ipykernel)",
      "language": "python",
      "name": "python3"
    },
    "language_info": {
      "codemirror_mode": {
        "name": "ipython",
        "version": 3
      },
      "file_extension": ".py",
      "mimetype": "text/x-python",
      "name": "python",
      "nbconvert_exporter": "python",
      "pygments_lexer": "ipython3",
      "version": "3.11.7"
    },
    "toc": {
      "base_numbering": 1,
      "nav_menu": {},
      "number_sections": true,
      "sideBar": true,
      "skip_h1_title": false,
      "title_cell": "Table of Contents",
      "title_sidebar": "Contents",
      "toc_cell": false,
      "toc_position": {},
      "toc_section_display": true,
      "toc_window_display": false
    }
  },
  "nbformat": 4,
  "nbformat_minor": 0
}