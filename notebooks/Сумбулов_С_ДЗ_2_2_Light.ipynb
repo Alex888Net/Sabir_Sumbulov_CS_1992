{
  "cells": [
    {
      "cell_type": "markdown",
      "metadata": {
        "id": "MH-3kVwvJYeP"
      },
      "source": [
        "# 2.2 Типы данных. Идентификаторы и ключевые слова. Целочисленные типы и числа с плавающей запятой. Строки"
      ]
    },
    {
      "cell_type": "markdown",
      "metadata": {
        "id": "gMwyKhlQJ1mf"
      },
      "source": [
        "## Задание 1"
      ]
    },
    {
      "cell_type": "markdown",
      "metadata": {
        "id": "Owu684lKKrjJ"
      },
      "source": [
        "**Условие:**\n",
        "Напишите функцию, получающую на вход целое положительное десятичное число и выводящую на экран его двоичное представление. Что выдаст функция при подаче на вход числа ```124124234```.\n",
        "\n",
        "**Формат ответа:**\n",
        "Число в двоичном виде (например, ```0b10100001000101```)\n"
      ]
    },
    {
      "cell_type": "markdown",
      "metadata": {
        "id": "OCTvo3fHLaaJ"
      },
      "source": [
        "**Решение:**"
      ]
    },
    {
      "cell_type": "code",
      "execution_count": null,
      "metadata": {
        "colab": {
          "base_uri": "https://localhost:8080/"
        },
        "id": "f9_8IGndLeRO",
        "outputId": "23ab28be-373c-4743-beed-1c8e60d0aba4"
      },
      "outputs": [
        {
          "output_type": "stream",
          "name": "stdout",
          "text": [
            "111011001011111110001001010\n"
          ]
        }
      ],
      "source": [
        "def decimal_to_binary(decimal_num):\n",
        "    binary_num = bin(decimal_num)[2:]\n",
        "    return binary_num\n",
        "\n",
        "input_num = 124124234\n",
        "binary_representation = decimal_to_binary(input_num)\n",
        "print(binary_representation)"
      ]
    },
    {
      "cell_type": "markdown",
      "metadata": {
        "id": "g5S0h2-wKfGE"
      },
      "source": [
        "## Задание 2"
      ]
    },
    {
      "cell_type": "markdown",
      "metadata": {
        "id": "orX7BUzcPKKf"
      },
      "source": [
        "**Условие:**\n",
        "Используя функции библиотеки ```math``` найдите значения синуса, косинуса и тангенса угла с градусной мерой ```75```. Округлите до 2х знаков после запятой.\n",
        "\n",
        "**Формат ответа:**\n",
        "Кортеж (например, ```(0.23, 0.67, 0.56)```)\n"
      ]
    },
    {
      "cell_type": "markdown",
      "metadata": {
        "id": "ESSLfwqEPKKn"
      },
      "source": [
        "**Решение:**"
      ]
    },
    {
      "cell_type": "code",
      "execution_count": null,
      "metadata": {
        "colab": {
          "base_uri": "https://localhost:8080/"
        },
        "id": "y8HOlaNLPKKq",
        "outputId": "e00c48cc-0bdb-4578-94d3-cef29268a021"
      },
      "outputs": [
        {
          "output_type": "stream",
          "name": "stdout",
          "text": [
            "Синус угла 75 градусов: 0.97\n",
            "Косинус угла 75 градусов: 0.26\n",
            "Тангенс угла 75 градусов: 3.73\n"
          ]
        }
      ],
      "source": [
        "import math\n",
        "\n",
        "angle_degrees = 75\n",
        "angle_radians = math.radians(angle_degrees)\n",
        "\n",
        "sin_value = round(math.sin(angle_radians), 2)\n",
        "cos_value = round(math.cos(angle_radians), 2)\n",
        "tan_value = round(math.tan(angle_radians), 2)\n",
        "\n",
        "print(f\"Синус угла 75 градусов: {sin_value}\")\n",
        "print(f\"Косинус угла 75 градусов: {cos_value}\")\n",
        "print(f\"Тангенс угла 75 градусов: {tan_value}\")"
      ]
    },
    {
      "cell_type": "markdown",
      "metadata": {
        "id": "tq0Fcrg1KfXQ"
      },
      "source": [
        "## Задание 3"
      ]
    },
    {
      "cell_type": "markdown",
      "metadata": {
        "id": "3xp-jyyHPMIb"
      },
      "source": [
        "**Условие:**\n",
        "С помощью операции среза выведите слово ```специалист``` из данного текста. В ответе укажите первый и последний индекс, который участвовал в срезе.\n",
        "\n",
        "**Формат ответа:**\n",
        "Кортеж (например, ```(5,10)```)\n",
        "\n"
      ]
    },
    {
      "cell_type": "markdown",
      "metadata": {
        "id": "H5ZlBsI2PMIi"
      },
      "source": [
        "**Решение:**"
      ]
    },
    {
      "cell_type": "code",
      "execution_count": null,
      "metadata": {
        "id": "6amsYUCoPMIn"
      },
      "outputs": [],
      "source": [
        "text = \"Представим ситуацию: вы — специалист по информационной безопасности и знаете, что выстроенная вами защита — полная чушь. Возможно, вы этого и не знаете, но проверять особо не желаете, ведь кому хочется выходить из зоны комфорта и дополнительно что-то предпринимать, внедрять средства защиты, смягчать риски, отчитываться за бюджет?\""
      ]
    },
    {
      "cell_type": "code",
      "execution_count": null,
      "metadata": {
        "colab": {
          "base_uri": "https://localhost:8080/"
        },
        "id": "2IsoWN0glMYv",
        "outputId": "a73758a9-f686-4451-ae83-021afed1464e"
      },
      "outputs": [
        {
          "output_type": "stream",
          "name": "stdout",
          "text": [
            "специалист\n"
          ]
        }
      ],
      "source": [
        "word = text[26:36]\n",
        "print(word)"
      ]
    }
  ],
  "metadata": {
    "colab": {
      "provenance": []
    },
    "kernelspec": {
      "display_name": "Python 3 (ipykernel)",
      "language": "python",
      "name": "python3"
    },
    "language_info": {
      "codemirror_mode": {
        "name": "ipython",
        "version": 3
      },
      "file_extension": ".py",
      "mimetype": "text/x-python",
      "name": "python",
      "nbconvert_exporter": "python",
      "pygments_lexer": "ipython3",
      "version": "3.11.7"
    },
    "toc": {
      "base_numbering": 1,
      "nav_menu": {},
      "number_sections": true,
      "sideBar": true,
      "skip_h1_title": false,
      "title_cell": "Table of Contents",
      "title_sidebar": "Contents",
      "toc_cell": false,
      "toc_position": {},
      "toc_section_display": true,
      "toc_window_display": false
    }
  },
  "nbformat": 4,
  "nbformat_minor": 0
}