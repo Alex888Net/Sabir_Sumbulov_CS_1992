{
  "cells": [
    {
      "cell_type": "markdown",
      "metadata": {
        "id": "MH-3kVwvJYeP"
      },
      "source": [
        "\n",
        "# 3.2.1 Быстрые поэлементные операции над массивами"
      ]
    },
    {
      "cell_type": "markdown",
      "metadata": {
        "id": "gMwyKhlQJ1mf"
      },
      "source": [
        "## Задание 1"
      ]
    },
    {
      "cell_type": "markdown",
      "metadata": {
        "id": "Owu684lKKrjJ"
      },
      "source": [
        "**Условие:**\n",
        "Создайте произвольный массив ```ndarray``` из 10 элементов типа ```float16```. Присутствие ненулевых дробных частей у элементов обязательно. С использованием методов ```numpy``` отделите дробные части элементов и найдите их среднее значение.\n",
        "\n",
        "**Формат ответа:**\n",
        "Число (например, ```0.2```)\n"
      ]
    },
    {
      "cell_type": "markdown",
      "metadata": {
        "id": "OCTvo3fHLaaJ"
      },
      "source": [
        "**Решение:**"
      ]
    },
    {
      "cell_type": "code",
      "execution_count": null,
      "metadata": {
        "colab": {
          "base_uri": "https://localhost:8080/"
        },
        "id": "f9_8IGndLeRO",
        "outputId": "be8129e6-cb28-4454-b4cc-7cbf39ffa743"
      },
      "outputs": [
        {
          "output_type": "stream",
          "name": "stdout",
          "text": [
            "Массив элементов типа float16: [0.1505  0.4265  0.638   0.134   0.323   0.5684  0.04745 0.09143 0.4404\n",
            " 0.4583 ]\n",
            "Дробные части элементов: [0.1505  0.4265  0.638   0.134   0.323   0.5684  0.04745 0.09143 0.4404\n",
            " 0.4583 ]\n",
            "Среднее значение дробных частей: 0.328\n"
          ]
        }
      ],
      "source": [
        "import numpy as np\n",
        "\n",
        "# Создание массива ndarray из 10 элементов типа float16\n",
        "array_float16 = np.random.rand(10).astype(np.float16)\n",
        "\n",
        "# Отделение дробных частей элементов\n",
        "fractional_parts = np.modf(array_float16)[0]\n",
        "\n",
        "# Нахождение среднего значения дробных частей\n",
        "mean_fractional = np.mean(fractional_parts)\n",
        "\n",
        "print(\"Массив элементов типа float16:\", array_float16)\n",
        "print(\"Дробные части элементов:\", fractional_parts)\n",
        "print(\"Среднее значение дробных частей:\", mean_fractional)\n"
      ]
    },
    {
      "cell_type": "markdown",
      "metadata": {
        "id": "g5S0h2-wKfGE"
      },
      "source": [
        "## Задание 2"
      ]
    },
    {
      "cell_type": "markdown",
      "metadata": {
        "id": "orX7BUzcPKKf"
      },
      "source": [
        "**Условие:**\n",
        "Создайте два произвольных целочисленных массива ```ndarray``` длины ```10``` и найдите количество позиций, в которых значения первого массива в ```3``` раза больше(не строго) значений второго массива при поэлементном сравнивании.\n",
        "\n",
        "**Формат ответа:**\n",
        "Число (например, ```5```)\n",
        "\n"
      ]
    },
    {
      "cell_type": "markdown",
      "metadata": {
        "id": "ESSLfwqEPKKn"
      },
      "source": [
        "**Решение:**"
      ]
    },
    {
      "cell_type": "code",
      "execution_count": null,
      "metadata": {
        "colab": {
          "base_uri": "https://localhost:8080/"
        },
        "id": "y8HOlaNLPKKq",
        "outputId": "e4a46d30-a0c2-4c94-f7eb-dee69ec37350"
      },
      "outputs": [
        {
          "output_type": "stream",
          "name": "stdout",
          "text": [
            "Первый массив: [6 3 9 7 7 6 6 8 3 8]\n",
            "Второй массив: [4 3 6 1 5 3 1 2 9 7]\n",
            "Количество позиций, в которых значения первого массива в 3 раза больше значений второго: 3\n"
          ]
        }
      ],
      "source": [
        "import numpy as np\n",
        "\n",
        "# Создание двух произвольных массивов ndarray длины 10\n",
        "array1 = np.random.randint(1, 10, 10)\n",
        "array2 = np.random.randint(1, 10, 10)\n",
        "\n",
        "# Поэлементное сравнение массивов\n",
        "comparison = array1 >= array2 * 3\n",
        "\n",
        "# Подсчет количества позиций, в которых значения первого массива в 3 раза больше значений второго\n",
        "num_positions = np.sum(comparison)\n",
        "\n",
        "print(\"Первый массив:\", array1)\n",
        "print(\"Второй массив:\", array2)\n",
        "print(\"Количество позиций, в которых значения первого массива в 3 раза больше значений второго:\", num_positions)\n"
      ]
    },
    {
      "cell_type": "markdown",
      "metadata": {
        "id": "tq0Fcrg1KfXQ"
      },
      "source": [
        "## Задание 3"
      ]
    },
    {
      "cell_type": "markdown",
      "metadata": {
        "id": "3xp-jyyHPMIb"
      },
      "source": [
        "**Условие:**\n",
        "Создайте массив ```ndarray``` длины ```20``` типа ```float16``` и с использованием методов numpy, найдите среднее и среднеквадратическое отклонение **по формулам**(np.mean и np.std можно использовать только для проверки результатов): для массива $\\{x_i\\}$\n",
        "\n",
        "*   $\\mu = \\frac{1}{n}(x_1 + ... x_n) $\n",
        "*   $\\sigma = \\sqrt{\\frac{1}{n}\\sum_{i=1}^{n}(x_i-\\mu)^2}$\n",
        "\n",
        "**Формат ответа:**\n",
        "Кортеж из 2х чисел (например, ```(3.2, 5.1)```)\n",
        "\n"
      ]
    },
    {
      "cell_type": "markdown",
      "metadata": {
        "id": "H5ZlBsI2PMIi"
      },
      "source": [
        "**Решение:**"
      ]
    },
    {
      "cell_type": "code",
      "execution_count": null,
      "metadata": {
        "colab": {
          "base_uri": "https://localhost:8080/"
        },
        "id": "6amsYUCoPMIn",
        "outputId": "1d3d2987-1458-41a2-a8b5-239795f0a546"
      },
      "outputs": [
        {
          "output_type": "stream",
          "name": "stdout",
          "text": [
            "Массив элементов типа float16: [0.3325  0.8643  0.3362  0.771   0.3618  0.9683  0.4702  0.513   0.8276\n",
            " 0.2705  0.4556  0.05823 0.9717  0.549   0.762   0.7017  0.362   0.825\n",
            " 0.05576 0.8228 ]\n",
            "Среднее значение (расчетное): 0.5640625\n",
            "Среднеквадратическое отклонение (расчетное): 0.2771401100977627\n",
            "Среднее значение (NumPy): 0.564\n",
            "Среднеквадратическое отклонение (NumPy): 0.277\n"
          ]
        }
      ],
      "source": [
        "import numpy as np\n",
        "\n",
        "# Создание массива ndarray длины 20 типа float16\n",
        "array_float16 = np.random.rand(20).astype(np.float16)\n",
        "\n",
        "# Расчет среднего значения\n",
        "mean = np.sum(array_float16) / len(array_float16)\n",
        "\n",
        "# Расчет среднеквадратического отклонения\n",
        "std_deviation = np.sqrt(np.sum((array_float16 - mean)**2) / len(array_float16))\n",
        "\n",
        "# Проверка результатов с использованием np.mean и np.std\n",
        "mean_np = np.mean(array_float16)\n",
        "std_deviation_np = np.std(array_float16)\n",
        "\n",
        "print(\"Массив элементов типа float16:\", array_float16)\n",
        "print(\"Среднее значение (расчетное):\", mean)\n",
        "print(\"Среднеквадратическое отклонение (расчетное):\", std_deviation)\n",
        "print(\"Среднее значение (NumPy):\", mean_np)\n",
        "print(\"Среднеквадратическое отклонение (NumPy):\", std_deviation_np)\n"
      ]
    }
  ],
  "metadata": {
    "colab": {
      "provenance": []
    },
    "kernelspec": {
      "display_name": "Python 3 (ipykernel)",
      "language": "python",
      "name": "python3"
    },
    "language_info": {
      "codemirror_mode": {
        "name": "ipython",
        "version": 3
      },
      "file_extension": ".py",
      "mimetype": "text/x-python",
      "name": "python",
      "nbconvert_exporter": "python",
      "pygments_lexer": "ipython3",
      "version": "3.11.7"
    }
  },
  "nbformat": 4,
  "nbformat_minor": 0
}