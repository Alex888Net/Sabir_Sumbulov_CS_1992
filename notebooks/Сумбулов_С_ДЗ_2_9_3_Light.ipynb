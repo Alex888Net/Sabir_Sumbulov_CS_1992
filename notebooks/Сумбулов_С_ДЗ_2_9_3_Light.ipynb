{
  "cells": [
    {
      "cell_type": "markdown",
      "metadata": {
        "id": "MH-3kVwvJYeP"
      },
      "source": [
        "# 2.9.3 Обработка строк, регулярные выражения"
      ]
    },
    {
      "cell_type": "markdown",
      "metadata": {
        "id": "gMwyKhlQJ1mf"
      },
      "source": [
        "## Задание 1"
      ]
    },
    {
      "cell_type": "markdown",
      "metadata": {
        "id": "Owu684lKKrjJ"
      },
      "source": [
        "**Условие:**\n",
        "Напишите функцию, которая просит пользователя ввести фамилию и имя, а потом возвращает отформатированное личное приветствие: по центру с шириной 70 знаков, обрамленное с обоих сторон символом ```=```. Не претендуя на звание самого красивого вывода, данные требования к стилю можно и нужно поменять.\n",
        "\n"
      ]
    },
    {
      "cell_type": "markdown",
      "metadata": {
        "id": "OCTvo3fHLaaJ"
      },
      "source": [
        "**Решение:**"
      ]
    },
    {
      "cell_type": "code",
      "execution_count": null,
      "metadata": {
        "colab": {
          "base_uri": "https://localhost:8080/"
        },
        "id": "f9_8IGndLeRO",
        "outputId": "dfe5f5fd-6279-4045-8c56-e670b263fd90"
      },
      "outputs": [
        {
          "output_type": "stream",
          "name": "stdout",
          "text": [
            "Введите фамилию: Сумбулов \n",
            "Введите имя: Сабиржан\n",
            "@@@@@@@@@@@@@@@@@@@@@@@@= Сумбулов  Сабиржан =@@@@@@@@@@@@@@@@@@@@@@@@\n"
          ]
        }
      ],
      "source": [
        "def personalgreeting():\n",
        "    # Запрос фамилии и имени\n",
        "    surname = input(\"Введите фамилию: \")\n",
        "    name = input(\"Введите имя: \")\n",
        "\n",
        "    # Форматирование приветствия\n",
        "    greeting = f\"= {surname} {name} =\".center(70, \"@\")\n",
        "\n",
        "    return greeting\n",
        "\n",
        "print(personalgreeting())"
      ]
    },
    {
      "cell_type": "markdown",
      "metadata": {
        "id": "g5S0h2-wKfGE"
      },
      "source": [
        "## Задание 2"
      ]
    },
    {
      "cell_type": "markdown",
      "metadata": {
        "id": "orX7BUzcPKKf"
      },
      "source": [
        "**Условие:**\n",
        "Используя регулярные выражения найдите все числовые значения из текста решения.\n",
        "\n",
        "\n",
        "\n"
      ]
    },
    {
      "cell_type": "markdown",
      "metadata": {
        "id": "ESSLfwqEPKKn"
      },
      "source": [
        "**Решение:**"
      ]
    },
    {
      "cell_type": "code",
      "source": [
        "import re\n",
        "\n",
        "textstr = '''Вы пишите код в браузере в ноутбуке, он выполняется на виртуальной машине в облаке Google.\n",
        "Машина выдается вам на 10 часов, после этого она останавливается. Однако ничто не мешает вам запустить еще одну виртуальную машину и работать еще 14 часов.\n",
        "Только имейте в виду, что после остановки виртуальной машины все данные с нее удаляются.\n",
        "Поэтому не забывайте сохранять нужные данные на свой компьютер или Google Drive, а после перезапуска виртуальной машины загружать заново.'''\n",
        "\n",
        "numbers = re.findall(r'\\b\\d+\\b', textstr)\n",
        "\n",
        "print(\"Числовые значения в тексте:\")\n",
        "for num in numbers:\n",
        "    print(num)"
      ],
      "metadata": {
        "id": "rMi2ghKbdfx4",
        "outputId": "07bc18b4-b3db-4f12-baa4-3245d2f9cbab",
        "colab": {
          "base_uri": "https://localhost:8080/"
        }
      },
      "execution_count": null,
      "outputs": [
        {
          "output_type": "stream",
          "name": "stdout",
          "text": [
            "Числовые значения в тексте:\n",
            "10\n",
            "14\n"
          ]
        }
      ]
    },
    {
      "cell_type": "code",
      "execution_count": null,
      "metadata": {
        "id": "y8HOlaNLPKKq"
      },
      "outputs": [],
      "source": [
        "text_str = '''Вы пишите код в браузере в ноутбуке, он выполняется на виртуальной машине в облаке Google.\n",
        "Машина выдается вам на 12 часов, после этого она останавливается. Однако ничто не мешает вам запустить еще одну виртуальную машину и работать еще 12 часов.\n",
        "Только имейте в виду, что после остановки виртуальной машины все данные с нее удаляются.\n",
        "Поэтому не забывайте сохранять нужные данные на свой компьютер или Google Drive, а после перезапуска виртуальной машины загружать заново.'''"
      ]
    }
  ],
  "metadata": {
    "colab": {
      "provenance": []
    },
    "kernelspec": {
      "display_name": "Python 3 (ipykernel)",
      "language": "python",
      "name": "python3"
    },
    "language_info": {
      "codemirror_mode": {
        "name": "ipython",
        "version": 3
      },
      "file_extension": ".py",
      "mimetype": "text/x-python",
      "name": "python",
      "nbconvert_exporter": "python",
      "pygments_lexer": "ipython3",
      "version": "3.11.7"
    }
  },
  "nbformat": 4,
  "nbformat_minor": 0
}