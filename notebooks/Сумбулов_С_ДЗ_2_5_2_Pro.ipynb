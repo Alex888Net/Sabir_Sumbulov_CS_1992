{
  "cells": [
    {
      "cell_type": "markdown",
      "metadata": {
        "id": "MH-3kVwvJYeP"
      },
      "source": [
        "# 2.5.2 Лямбда-функции и функции генераторы"
      ]
    },
    {
      "cell_type": "markdown",
      "metadata": {
        "id": "g5S0h2-wKfGE"
      },
      "source": [
        "## Задание 1"
      ]
    },
    {
      "cell_type": "markdown",
      "metadata": {
        "id": "orX7BUzcPKKf"
      },
      "source": [
        "**Условие:**\n",
        "Создайте лямбда-функцию, проверяющую условие делимости целого числа на ```7```. Примените ее ко всем элементам листа ```[1,2,3, ..., 1000]```. Найдите сумму полученных элементов.\n",
        "\n",
        "**Формат ответа:** Число (например, ```211```)"
      ]
    },
    {
      "cell_type": "markdown",
      "metadata": {
        "id": "ESSLfwqEPKKn"
      },
      "source": [
        "**Решение:**"
      ]
    },
    {
      "cell_type": "code",
      "execution_count": null,
      "metadata": {
        "colab": {
          "base_uri": "https://localhost:8080/"
        },
        "id": "y8HOlaNLPKKq",
        "outputId": "1e2288cf-4862-4cf3-b565-0388b1f0676c"
      },
      "outputs": [
        {
          "output_type": "stream",
          "name": "stdout",
          "text": [
            "71071\n"
          ]
        }
      ],
      "source": [
        "numbers = list(range(1, 1001))\n",
        "\n",
        "divisible_by_7_lambda = lambda x: x if x % 7 == 0 else 0\n",
        "divisible_values = map(divisible_by_7_lambda, numbers)\n",
        "sum_divisible_values = sum(divisible_values)\n",
        "\n",
        "print(sum_divisible_values)"
      ]
    },
    {
      "cell_type": "markdown",
      "metadata": {
        "id": "selGfp_KaY3W"
      },
      "source": [
        "## Задание 2"
      ]
    },
    {
      "cell_type": "markdown",
      "metadata": {
        "id": "B8fL9n7zaY3g"
      },
      "source": [
        "**Условие:**\n",
        "Создайте лямбда-функцию, которая может получить на вход любое количество чисел и выдать их среднее арифметическое. Примените данную функцию на набору значений, указанных в решении.\n",
        "\n",
        "**Формат ответа:** Число (например,  ```15.2```)\n"
      ]
    },
    {
      "cell_type": "markdown",
      "metadata": {
        "id": "fIDZErU3aY3l"
      },
      "source": [
        "**Решение:**"
      ]
    },
    {
      "cell_type": "code",
      "execution_count": null,
      "metadata": {
        "colab": {
          "base_uri": "https://localhost:8080/"
        },
        "id": "cqlVLcn-aY3p",
        "outputId": "b688a16e-4c5e-4da3-b708-d4a357c4da4a"
      },
      "outputs": [
        {
          "output_type": "stream",
          "name": "stdout",
          "text": [
            "5.5\n"
          ]
        }
      ],
      "source": [
        "target_list = [1,2,3,4,5,6,7,8,9,10]\n",
        "\n",
        "average_lambda = lambda *args: sum(args) / len(args)\n",
        "result = average_lambda(*target_list)\n",
        "print(result)"
      ]
    }
  ],
  "metadata": {
    "colab": {
      "provenance": []
    },
    "kernelspec": {
      "display_name": "Python 3 (ipykernel)",
      "language": "python",
      "name": "python3"
    },
    "language_info": {
      "codemirror_mode": {
        "name": "ipython",
        "version": 3
      },
      "file_extension": ".py",
      "mimetype": "text/x-python",
      "name": "python",
      "nbconvert_exporter": "python",
      "pygments_lexer": "ipython3",
      "version": "3.11.7"
    }
  },
  "nbformat": 4,
  "nbformat_minor": 0
}