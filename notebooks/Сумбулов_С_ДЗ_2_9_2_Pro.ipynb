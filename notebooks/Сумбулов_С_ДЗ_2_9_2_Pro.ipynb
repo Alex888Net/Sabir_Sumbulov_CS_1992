{
  "cells": [
    {
      "cell_type": "markdown",
      "metadata": {
        "id": "MH-3kVwvJYeP"
      },
      "source": [
        "# 2.9.2 Работа с аргументами командной строки, время и дата"
      ]
    },
    {
      "cell_type": "markdown",
      "metadata": {
        "id": "gMwyKhlQJ1mf"
      },
      "source": [
        "## Задание 1"
      ]
    },
    {
      "cell_type": "markdown",
      "metadata": {
        "id": "Owu684lKKrjJ"
      },
      "source": [
        "**Условие:**\n",
        "Методами библиотеки ```datetime``` найти количество високосных годов с начала Unix эпохи и по настоящий момент.\n",
        "\n",
        "**Формат ответа:**\n",
        "Число (например, ```2```)\n"
      ]
    },
    {
      "cell_type": "markdown",
      "metadata": {
        "id": "OCTvo3fHLaaJ"
      },
      "source": [
        "**Решение:**"
      ]
    },
    {
      "cell_type": "code",
      "execution_count": null,
      "metadata": {
        "colab": {
          "base_uri": "https://localhost:8080/"
        },
        "id": "f9_8IGndLeRO",
        "outputId": "3c03b975-33f0-464e-f14f-eae9834f7361"
      },
      "outputs": [
        {
          "output_type": "stream",
          "name": "stdout",
          "text": [
            "Количество високосных годов с начала Unix эпохи и по настоящий момент: 14\n"
          ]
        }
      ],
      "source": [
        "from datetime import datetime\n",
        "\n",
        "def isleapyear(year):\n",
        "    # Функция для определения, является ли год високосным\n",
        "    return (year % 4 == 0 and (year % 100 != 0 or year % 400 == 0))\n",
        "\n",
        "# Начало Unix времени\n",
        "unixepochstart = datetime(1970, 1, 1)\n",
        "\n",
        "# Текущая дата\n",
        "currentdate = datetime.now()\n",
        "\n",
        "totalleapyears = sum(1 for year in range(unixepochstart.year, currentdate.year + 1) if isleapyear(year))\n",
        "\n",
        "print(\"Количество високосных годов с начала Unix эпохи и по настоящий момент:\", totalleapyears)"
      ]
    },
    {
      "cell_type": "markdown",
      "metadata": {
        "id": "g5S0h2-wKfGE"
      },
      "source": [
        "## Задание 2"
      ]
    },
    {
      "cell_type": "markdown",
      "metadata": {
        "id": "orX7BUzcPKKf"
      },
      "source": [
        "**Условие:**\n",
        "Методами библиотеки ```datetime``` найдите название дня недели, в который вы родились. Посчитайте также количество секунд, которые вы провели на этой планете до ```01.01.2020```.\n",
        "\n",
        "**Формат ответа:** кортеж (например, ```('monday',123213875)```)\n"
      ]
    },
    {
      "cell_type": "markdown",
      "metadata": {
        "id": "ESSLfwqEPKKn"
      },
      "source": [
        "**Решение:**"
      ]
    },
    {
      "cell_type": "code",
      "execution_count": null,
      "metadata": {
        "colab": {
          "base_uri": "https://localhost:8080/"
        },
        "id": "y8HOlaNLPKKq",
        "outputId": "57b16919-6929-4cb2-dd5b-576d758a60de"
      },
      "outputs": [
        {
          "output_type": "stream",
          "name": "stdout",
          "text": [
            "День недели, в который я родился: Thursday\n",
            "Количество проведенных на планете секунд до 07.03.2024: 1012348800.0\n"
          ]
        }
      ],
      "source": [
        "from datetime import datetime, timedelta\n",
        "\n",
        "# Дата рождения\n",
        "date_of_birth = datetime(1992, 6, 4)\n",
        "\n",
        "# Название дня недели, в который было рождение\n",
        "day_of_week = date_of_birth.strftime(\"%A\")\n",
        "\n",
        "# Текущая дата\n",
        "current_date = datetime(2024, 7,3)\n",
        "\n",
        "# Разница между текущей датой и датой рождения\n",
        "time_spent = current_date - date_of_birth\n",
        "\n",
        "# Получение общего количества секунд\n",
        "total_seconds_spent = time_spent.total_seconds()\n",
        "\n",
        "print(\"День недели, в который я родился:\", day_of_week)\n",
        "print(\"Количество проведенных на планете секунд до 07.03.2024:\", total_seconds_spent)"
      ]
    }
  ],
  "metadata": {
    "colab": {
      "provenance": []
    },
    "kernelspec": {
      "display_name": "Python 3 (ipykernel)",
      "language": "python",
      "name": "python3"
    },
    "language_info": {
      "codemirror_mode": {
        "name": "ipython",
        "version": 3
      },
      "file_extension": ".py",
      "mimetype": "text/x-python",
      "name": "python",
      "nbconvert_exporter": "python",
      "pygments_lexer": "ipython3",
      "version": "3.11.7"
    }
  },
  "nbformat": 4,
  "nbformat_minor": 0
}