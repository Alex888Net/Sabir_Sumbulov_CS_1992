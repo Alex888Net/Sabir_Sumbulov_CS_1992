{
  "cells": [
    {
      "cell_type": "markdown",
      "metadata": {
        "id": "MH-3kVwvJYeP"
      },
      "source": [
        "\n",
        "# 3.2.5 Файловый ввод-вывод массивов"
      ]
    },
    {
      "cell_type": "markdown",
      "metadata": {
        "id": "gMwyKhlQJ1mf"
      },
      "source": [
        "## Задание 1"
      ]
    },
    {
      "cell_type": "markdown",
      "metadata": {
        "id": "Owu684lKKrjJ"
      },
      "source": [
        "**Условие:**\n",
        "Создайте массив ```ndarray``` размера ```(20,20)``` элементов, взятых из равномерного распределения на полуинтервале ```[0,1)```. Запишите данный массив в файл в бинарном и текстовом виде. Найдите абсолютное значение разности байтовых размеров полученных файлов. Используйте ```np.random.seed(1000)``` перед генерацией массива для воспроизводимости результатов.\n",
        "\n",
        "**Формат ответа:**\n",
        "Число (например, ```100```)\n",
        "\n"
      ]
    },
    {
      "cell_type": "markdown",
      "metadata": {
        "id": "OCTvo3fHLaaJ"
      },
      "source": [
        "**Решение:**"
      ]
    },
    {
      "cell_type": "code",
      "execution_count": null,
      "metadata": {
        "colab": {
          "base_uri": "https://localhost:8080/"
        },
        "id": "f9_8IGndLeRO",
        "outputId": "2120c97d-3038-4c1e-d859-cf4c71300535"
      },
      "outputs": [
        {
          "output_type": "stream",
          "name": "stdout",
          "text": [
            "Абсолютная разность байтовых размеров файлов: 6672\n"
          ]
        }
      ],
      "source": [
        "import numpy as np\n",
        "\n",
        "np.random.seed(1000)  # Установка seed для воспроизводимости результатов\n",
        "\n",
        "# Создание массива ndarray размера (20, 20) из равномерного распределения\n",
        "array = np.random.uniform(low=0, high=1, size=(20, 20))\n",
        "\n",
        "# Запись массива в файл в бинарном виде\n",
        "with open('array_binary.npy', 'wb') as f:\n",
        "    np.save(f, array)\n",
        "\n",
        "# Запись массива в файл в текстовом виде\n",
        "np.savetxt('array_text.txt', array)\n",
        "\n",
        "# Нахождение байтовых размеров файлов\n",
        "binary_size = len(open('array_binary.npy', 'rb').read())\n",
        "text_size = len(open('array_text.txt', 'r').read().encode())\n",
        "\n",
        "# Нахождение абсолютного значения разности байтовых размеров\n",
        "diff_size = np.abs(binary_size - text_size)\n",
        "\n",
        "print(\"Абсолютная разность байтовых размеров файлов:\", diff_size)\n"
      ]
    },
    {
      "cell_type": "markdown",
      "metadata": {
        "id": "g5S0h2-wKfGE"
      },
      "source": [
        "## Задание 2"
      ]
    },
    {
      "cell_type": "markdown",
      "metadata": {
        "id": "orX7BUzcPKKf"
      },
      "source": [
        "**Условие:**\n",
        "Создайте массив ```ndarray``` размера ```100``` из элементов, взятых из стандартного нормального распределения. Запишите данный массив в файл в бинарном виде. Считайте массив из файла, с использованием целочисленного типа данных. Найдите абсолютное значение разности сумм элементов исходного массива и считанного из файла. Используйте ```np.random.seed(1000)``` перед генерацией массива для воспроизводимости результатов.\n",
        "\n",
        "**Формат ответа:**\n",
        "Число (например, ```102.4```)\n",
        "\n"
      ]
    },
    {
      "cell_type": "markdown",
      "metadata": {
        "id": "ESSLfwqEPKKn"
      },
      "source": [
        "**Решение:**"
      ]
    },
    {
      "cell_type": "code",
      "execution_count": null,
      "metadata": {
        "colab": {
          "base_uri": "https://localhost:8080/"
        },
        "id": "y8HOlaNLPKKq",
        "outputId": "c169f227-a4d5-4232-9440-cd35e4041f45"
      },
      "outputs": [
        {
          "output_type": "stream",
          "name": "stdout",
          "text": [
            "Абсолютное значение разности сумм элементов: 2.693960566997837\n"
          ]
        }
      ],
      "source": [
        "import numpy as np\n",
        "\n",
        "np.random.seed(1000)  # Установка seed для воспроизводимости результатов\n",
        "\n",
        "# Создание массива ndarray размера 100 из стандартного нормального распределения\n",
        "array = np.random.randn(100)\n",
        "\n",
        "# Запись массива в файл в бинарном виде\n",
        "with open('array_binary.npy', 'wb') as f:\n",
        "    np.save(f, array)\n",
        "\n",
        "# Считывание массива из файла, используя целочисленный тип данных\n",
        "with open('array_binary.npy', 'rb') as f:\n",
        "    loaded_array = np.load(f).astype(int)\n",
        "\n",
        "# Нахождение абсолютного значения разности сумм элементов исходного массива и считанного из файла\n",
        "diff_sum = np.abs(np.sum(array) - np.sum(loaded_array))\n",
        "\n",
        "print(\"Абсолютное значение разности сумм элементов:\", diff_sum)\n"
      ]
    },
    {
      "cell_type": "markdown",
      "metadata": {
        "id": "tq0Fcrg1KfXQ"
      },
      "source": [
        "## Задание 3"
      ]
    },
    {
      "cell_type": "markdown",
      "metadata": {
        "id": "3xp-jyyHPMIb"
      },
      "source": [
        "**Условие:**\n",
        "Напишите функцию, которая принимает на вход квадратную матрицу и находит ее определитель. Если определитель отличен от нуля, то функция возвращает определитель матрицы, которая является обратной к транспанированной исходной матрице, иначе выдает ноль. Проверьте работоспособность на матрице, указанной в пункте решение.\n",
        "\n",
        "**Формат ответа:**\n",
        "Число (например, ```2.7```)\n",
        "\n"
      ]
    },
    {
      "cell_type": "markdown",
      "metadata": {
        "id": "H5ZlBsI2PMIi"
      },
      "source": [
        "**Решение:**"
      ]
    },
    {
      "cell_type": "code",
      "source": [
        "import numpy as np\n",
        "\n",
        "def find_determinant(matrix):\n",
        "    det = np.linalg.det(matrix)\n",
        "    if det != 0:\n",
        "        inv_matrix = np.linalg.inv(np.transpose(matrix))\n",
        "        return np.linalg.det(inv_matrix)\n",
        "    else:\n",
        "        return 0\n",
        "\n",
        "# Проверка на матрице [[1, 2, 3], [4, 5, 6], [7, 8, 9]]\n",
        "matrix = np.array([[1, 2, 3], [4, 5, 6], [7, 8, 9]])\n",
        "result = find_determinant(matrix)\n",
        "print(result)\n"
      ],
      "metadata": {
        "id": "e_aAonkahTH_",
        "outputId": "e135eaeb-295c-44f0-d26a-23c378a5fe1d",
        "colab": {
          "base_uri": "https://localhost:8080/"
        }
      },
      "execution_count": null,
      "outputs": [
        {
          "output_type": "stream",
          "name": "stdout",
          "text": [
            "0\n"
          ]
        }
      ]
    },
    {
      "cell_type": "code",
      "source": [],
      "metadata": {
        "id": "4J_WR3kBhTlj"
      },
      "execution_count": null,
      "outputs": []
    }
  ],
  "metadata": {
    "colab": {
      "provenance": []
    },
    "kernelspec": {
      "display_name": "Python 3 (ipykernel)",
      "language": "python",
      "name": "python3"
    },
    "language_info": {
      "codemirror_mode": {
        "name": "ipython",
        "version": 3
      },
      "file_extension": ".py",
      "mimetype": "text/x-python",
      "name": "python",
      "nbconvert_exporter": "python",
      "pygments_lexer": "ipython3",
      "version": "3.11.7"
    }
  },
  "nbformat": 4,
  "nbformat_minor": 0
}