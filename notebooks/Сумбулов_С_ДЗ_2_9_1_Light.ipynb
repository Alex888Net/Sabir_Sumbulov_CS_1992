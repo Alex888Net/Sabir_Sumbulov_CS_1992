{
  "cells": [
    {
      "cell_type": "markdown",
      "metadata": {
        "id": "MH-3kVwvJYeP"
      },
      "source": [
        "\n",
        "# 2.9.1 Математические вычисления и числа, типы коллекций"
      ]
    },
    {
      "cell_type": "markdown",
      "metadata": {
        "id": "gMwyKhlQJ1mf"
      },
      "source": [
        "## Задание 1"
      ]
    },
    {
      "cell_type": "markdown",
      "metadata": {
        "id": "Owu684lKKrjJ"
      },
      "source": [
        "**Условие:**\n",
        "\n",
        "Напишите функцию, которая случайно переставляет буквы во введенном слове.\n"
      ]
    },
    {
      "cell_type": "markdown",
      "metadata": {
        "id": "VZe5-rzFOe9C"
      },
      "source": [
        "**Решение:**"
      ]
    },
    {
      "cell_type": "code",
      "execution_count": null,
      "metadata": {
        "id": "fCdIycStOe9E",
        "outputId": "98ef06ee-5a4c-4aeb-d73b-1ee1c785f13e",
        "colab": {
          "base_uri": "https://localhost:8080/"
        }
      },
      "outputs": [
        {
          "output_type": "stream",
          "name": "stdout",
          "text": [
            "Введите слово: дания\n",
            "Перемешанное слово: иадян\n"
          ]
        }
      ],
      "source": [
        "import random\n",
        "\n",
        "def shuffle_word(word):\n",
        "    # Преобразуем слово в список символов\n",
        "    letters = list(word)\n",
        "\n",
        "    # Перемешиваем символы\n",
        "    random.shuffle(letters)\n",
        "\n",
        "    # Соединяем перемешанные символы обратно в слово\n",
        "    shuffled_word = ''.join(letters)\n",
        "\n",
        "    return shuffled_word\n",
        "\n",
        "# Ввод слова от пользователя\n",
        "word = input(\"Введите слово: \")\n",
        "\n",
        "# Перемешивание букв в слове\n",
        "shuffled_word = shuffle_word(word)\n",
        "\n",
        "print(f\"Перемешанное слово: {shuffled_word}\")"
      ]
    },
    {
      "cell_type": "markdown",
      "metadata": {
        "id": "g5S0h2-wKfGE"
      },
      "source": [
        "## Задание 2"
      ]
    },
    {
      "cell_type": "markdown",
      "metadata": {
        "id": "orX7BUzcPKKf"
      },
      "source": [
        "**Условие:**\n",
        "Используя методы модуля ```math```, найти значения $e^{\\pi}$ и $\\pi^{e}$. В случае, если первое выражение больше,то в ответе укажите 1, иначе - 0.\n",
        "\n",
        "**Формат ответа:**\n",
        "Число (например, ```1```)"
      ]
    },
    {
      "cell_type": "markdown",
      "metadata": {
        "id": "ESSLfwqEPKKn"
      },
      "source": [
        "**Решение:**"
      ]
    },
    {
      "cell_type": "code",
      "execution_count": null,
      "metadata": {
        "colab": {
          "base_uri": "https://localhost:8080/"
        },
        "id": "y8HOlaNLPKKq",
        "outputId": "8e4276bb-e2fa-41d6-bdc8-d9deff0ad895"
      },
      "outputs": [
        {
          "output_type": "stream",
          "name": "stdout",
          "text": [
            "1\n"
          ]
        }
      ],
      "source": [
        "import math\n",
        "\n",
        "# Вычисляем e^π\n",
        "exp_pi = math.exp(math.pi)\n",
        "\n",
        "# Вычисляем π^e\n",
        "pi_exp = math.pi ** math.e\n",
        "\n",
        "# Сравниваем значения\n",
        "if exp_pi > pi_exp:\n",
        "    result = 1\n",
        "else:\n",
        "    result = 0\n",
        "\n",
        "print(result)"
      ]
    }
  ],
  "metadata": {
    "colab": {
      "provenance": []
    },
    "kernelspec": {
      "display_name": "Python 3 (ipykernel)",
      "language": "python",
      "name": "python3"
    },
    "language_info": {
      "codemirror_mode": {
        "name": "ipython",
        "version": 3
      },
      "file_extension": ".py",
      "mimetype": "text/x-python",
      "name": "python",
      "nbconvert_exporter": "python",
      "pygments_lexer": "ipython3",
      "version": "3.11.7"
    }
  },
  "nbformat": 4,
  "nbformat_minor": 0
}