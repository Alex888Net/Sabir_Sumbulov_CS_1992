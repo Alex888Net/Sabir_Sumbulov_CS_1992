{
  "cells": [
    {
      "cell_type": "markdown",
      "metadata": {
        "id": "MH-3kVwvJYeP"
      },
      "source": [
        "# 2.8.3 Объектно-ориентированное программирование как ключевой элемент языка Python"
      ]
    },
    {
      "cell_type": "markdown",
      "metadata": {
        "id": "WS0TXJkOD_Q6"
      },
      "source": [
        "## Задание 1"
      ]
    },
    {
      "cell_type": "markdown",
      "metadata": {
        "id": "vnaW1OUnD_RA"
      },
      "source": [
        "**Условие:** Для класса ```Department``` из задания к занятию 2.8.2 установите все родительские классы. Установите к каким классам относятся атрибуты данных и методы указанного класса.\n"
      ]
    },
    {
      "cell_type": "markdown",
      "metadata": {
        "id": "fgXudiR7D_RC"
      },
      "source": [
        "**Решение:**"
      ]
    },
    {
      "cell_type": "code",
      "execution_count": null,
      "metadata": {
        "colab": {
          "base_uri": "https://localhost:8080/"
        },
        "id": "d3EG8Yu9D_RF",
        "outputId": "7d0007ff-be05-40f6-966d-3ff6506c7ed3"
      },
      "outputs": [
        {
          "output_type": "stream",
          "name": "stdout",
          "text": [
            "[<class '__main__.Department'>, <class '__main__.Company'>, <class 'object'>]\n",
            "Special method __class__ belongs to Department\n",
            "Special method __delattr__ belongs to Department\n",
            "Special method __dict__ belongs to Department\n",
            "Special method __dir__ belongs to Department\n",
            "Special method __doc__ belongs to Department\n",
            "Special method __eq__ belongs to Department\n",
            "Special method __format__ belongs to Department\n",
            "Special method __ge__ belongs to Department\n",
            "Special method __getattribute__ belongs to Department\n",
            "Special method __gt__ belongs to Department\n",
            "Special method __hash__ belongs to Department\n",
            "Special method __init__ belongs to Department\n",
            "Special method __init_subclass__ belongs to Department\n",
            "Special method __le__ belongs to Department\n",
            "Special method __lt__ belongs to Department\n",
            "Special method __module__ belongs to Department\n",
            "Special method __ne__ belongs to Department\n",
            "Special method __new__ belongs to Department\n",
            "Special method __reduce__ belongs to Department\n",
            "Special method __reduce_ex__ belongs to Department\n",
            "Special method __repr__ belongs to Department\n",
            "Special method __setattr__ belongs to Department\n",
            "Special method __sizeof__ belongs to Department\n",
            "Special method __str__ belongs to Department\n",
            "Special method __subclasshook__ belongs to Department\n",
            "Special method __weakref__ belongs to Department\n",
            "Function get_department_name belongs to Department\n"
          ]
        }
      ],
      "source": [
        "import inspect\n",
        "\n",
        "class Company:\n",
        "    def __init__(self, name):\n",
        "        self.name = name\n",
        "\n",
        "class Department(Company):\n",
        "    def __init__(self, name, department_name):\n",
        "        super().__init__(name)\n",
        "        self.department_name = department_name\n",
        "\n",
        "    def get_department_name(self):\n",
        "        return self.department_name\n",
        "\n",
        "# Получаем порядок разрешения методов (MRO) для класса Department\n",
        "print(Department.mro())\n",
        "\n",
        "# Определяем принадлежность атрибутов и методов к классам\n",
        "for name, data in inspect.getmembers(Department):\n",
        "    if name.startswith(\"__\"):\n",
        "        print(f\"Special method {name} belongs to Department\")\n",
        "    elif inspect.ismethod(data):\n",
        "        print(f\"Method {name} belongs to Department\")\n",
        "    elif inspect.isfunction(data):\n",
        "        print(f\"Function {name} belongs to Department\")\n",
        "    else:\n",
        "        print(f\"Attribute {name} belongs to Department\")"
      ]
    }
  ],
  "metadata": {
    "colab": {
      "provenance": []
    },
    "kernelspec": {
      "display_name": "Python 3 (ipykernel)",
      "language": "python",
      "name": "python3"
    },
    "language_info": {
      "codemirror_mode": {
        "name": "ipython",
        "version": 3
      },
      "file_extension": ".py",
      "mimetype": "text/x-python",
      "name": "python",
      "nbconvert_exporter": "python",
      "pygments_lexer": "ipython3",
      "version": "3.11.7"
    }
  },
  "nbformat": 4,
  "nbformat_minor": 0
}