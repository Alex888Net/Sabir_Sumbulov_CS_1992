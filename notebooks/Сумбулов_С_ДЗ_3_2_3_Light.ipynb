{
  "cells": [
    {
      "cell_type": "markdown",
      "metadata": {
        "id": "MH-3kVwvJYeP"
      },
      "source": [
        "\n",
        "# 3.2.3 Уход от циклов: обработка данных с применением массивов"
      ]
    },
    {
      "cell_type": "markdown",
      "metadata": {
        "id": "gMwyKhlQJ1mf"
      },
      "source": [
        "## Задание 1"
      ]
    },
    {
      "cell_type": "markdown",
      "metadata": {
        "id": "Owu684lKKrjJ"
      },
      "source": [
        "**Условие:**\n",
        "Создайте случайный целочисленный массив ```ndarray``` из ```12``` элементов, принадлежащих отрезку ```[0,10]```. Сделайте две матрицы размера ```(3,4)``` с порядком следования элементов в стиле С и Fortran. Найдите поэлементное произведение этих матриц, а после - максимальный элемент в полученной матрице. Используйте ```np.random.seed(1000)``` перед генерацией массива для воспроизводимости результатов.\n",
        "\n",
        "**Формат ответа:**\n",
        "Число (например, ```25```)\n",
        "\n"
      ]
    },
    {
      "cell_type": "markdown",
      "metadata": {
        "id": "OCTvo3fHLaaJ"
      },
      "source": [
        "**Решение:**"
      ]
    },
    {
      "cell_type": "code",
      "execution_count": null,
      "metadata": {
        "colab": {
          "base_uri": "https://localhost:8080/"
        },
        "id": "f9_8IGndLeRO",
        "outputId": "b677e377-aaed-437d-e76b-13734495d876"
      },
      "outputs": [
        {
          "output_type": "stream",
          "name": "stdout",
          "text": [
            "Исходный массив:\n",
            "[ 3  7  7  0  1  0  9  8  9  4 10 10]\n",
            "\n",
            "Матрица в стиле C:\n",
            "[[ 3  7  7  0]\n",
            " [ 1  0  9  8]\n",
            " [ 9  4 10 10]]\n",
            "\n",
            "Матрица в стиле Fortran:\n",
            "[[ 3  0  9  4]\n",
            " [ 7  1  8 10]\n",
            " [ 7  0  9 10]]\n",
            "\n",
            "Полученная матрица после поэлементного умножения:\n",
            "[[  9   0  63   0]\n",
            " [  7   0  72  80]\n",
            " [ 63   0  90 100]]\n",
            "\n",
            "Максимальный элемент в полученной матрице: 100\n"
          ]
        }
      ],
      "source": [
        "import numpy as np\n",
        "\n",
        "# Установка seed для воспроизводимости результатов\n",
        "np.random.seed(1000)\n",
        "\n",
        "# Создание случайного целочисленного массива ndarray из 12 элементов на отрезке [0, 10]\n",
        "array = np.random.randint(0, 11, 12)\n",
        "\n",
        "# Создание двух матриц размером (3, 4) с порядком следования элементов в стиле C и Fortran\n",
        "matrix_c = array.reshape(3, 4, order='C')\n",
        "matrix_f = array.reshape(3, 4, order='F')\n",
        "\n",
        "# Нахождение поэлементного произведения двух матриц\n",
        "result_matrix = matrix_c * matrix_f\n",
        "\n",
        "# Нахождение максимального элемента в полученной матрице\n",
        "max_element = np.max(result_matrix)\n",
        "\n",
        "print(\"Исходный массив:\")\n",
        "print(array)\n",
        "print(\"\\nМатрица в стиле C:\")\n",
        "print(matrix_c)\n",
        "print(\"\\nМатрица в стиле Fortran:\")\n",
        "print(matrix_f)\n",
        "print(\"\\nПолученная матрица после поэлементного умножения:\")\n",
        "print(result_matrix)\n",
        "print(\"\\nМаксимальный элемент в полученной матрице:\", max_element)\n"
      ]
    },
    {
      "cell_type": "markdown",
      "metadata": {
        "id": "g5S0h2-wKfGE"
      },
      "source": [
        "## Задание 2"
      ]
    },
    {
      "cell_type": "markdown",
      "metadata": {
        "id": "orX7BUzcPKKf"
      },
      "source": [
        "**Условие:**\n",
        "Создайте ```3``` случайных целочисленных массива ```ndarray``` размера ```(10,10)``` элементов, принадлежащих отрезку ```[0,10]```. Сделайте из данных массивов один трехмерный массив. Найдя размер полученного массива, вычислите количество элементов в нем. Используйте ```np.random.seed(1000)``` перед генерацией массива для воспроизводимости результатов.\n",
        "\n",
        "**Формат ответа:**\n",
        "Число (например, ```56```)\n"
      ]
    },
    {
      "cell_type": "markdown",
      "metadata": {
        "id": "ESSLfwqEPKKn"
      },
      "source": [
        "**Решение:**"
      ]
    },
    {
      "cell_type": "code",
      "execution_count": null,
      "metadata": {
        "colab": {
          "base_uri": "https://localhost:8080/"
        },
        "id": "y8HOlaNLPKKq",
        "outputId": "8345e840-102e-4f82-a980-052dc8a9d9eb"
      },
      "outputs": [
        {
          "output_type": "stream",
          "name": "stdout",
          "text": [
            "Размер трехмерного массива: (3, 10, 10)\n",
            "Количество элементов в трехмерном массиве: 300\n"
          ]
        }
      ],
      "source": [
        "import numpy as np\n",
        "\n",
        "np.random.seed(1000)\n",
        "\n",
        "# Создание трех случайных массивов размером (10, 10) в диапазоне [0, 10]\n",
        "array1 = np.random.randint(0, 11, size=(10, 10))\n",
        "array2 = np.random.randint(0, 11, size=(10, 10))\n",
        "array3 = np.random.randint(0, 11, size=(10, 10))\n",
        "\n",
        "# Объединение трех массивов в трехмерный массив\n",
        "three_dim_array = np.array([array1, array2, array3])\n",
        "\n",
        "# Нахождение размера полученного массива\n",
        "shape = three_dim_array.shape\n",
        "\n",
        "# Вычисление количества элементов в трехмерном массиве\n",
        "num_elements = three_dim_array.size\n",
        "\n",
        "print(\"Размер трехмерного массива:\", shape)\n",
        "print(\"Количество элементов в трехмерном массиве:\", num_elements)\n"
      ]
    },
    {
      "cell_type": "markdown",
      "metadata": {
        "id": "tq0Fcrg1KfXQ"
      },
      "source": [
        "## Задание 3"
      ]
    },
    {
      "cell_type": "markdown",
      "metadata": {
        "id": "3xp-jyyHPMIb"
      },
      "source": [
        "**Условие:**\n",
        "С использование методов ```ndarray``` сформируйте массив размера ```(20,2)```, в первом столбце которого идут целые числа, начиная с ```1```,а во втором - первые 20 нечетных чисел, начиная с ```3```. Найдите среднее значение второго столбца.\n",
        "\n",
        "**Формат ответа:**\n",
        "Число (например, ```34```)\n",
        "\n"
      ]
    },
    {
      "cell_type": "markdown",
      "metadata": {
        "id": "H5ZlBsI2PMIi"
      },
      "source": [
        "**Решение:**"
      ]
    },
    {
      "cell_type": "code",
      "execution_count": null,
      "metadata": {
        "colab": {
          "base_uri": "https://localhost:8080/"
        },
        "id": "6amsYUCoPMIn",
        "outputId": "12e7c9b5-a1b9-439a-c937-cad27ac97efa"
      },
      "outputs": [
        {
          "output_type": "stream",
          "name": "stdout",
          "text": [
            "Массив размера (20, 2):\n",
            "[[ 1  3]\n",
            " [ 2  5]\n",
            " [ 3  7]\n",
            " [ 4  9]\n",
            " [ 5 11]\n",
            " [ 6 13]\n",
            " [ 7 15]\n",
            " [ 8 17]\n",
            " [ 9 19]\n",
            " [10 21]\n",
            " [11 23]\n",
            " [12 25]\n",
            " [13 27]\n",
            " [14 29]\n",
            " [15 31]\n",
            " [16 33]\n",
            " [17 35]\n",
            " [18 37]\n",
            " [19 39]\n",
            " [20 41]]\n",
            "Среднее значение второго столбца: 22.0\n"
          ]
        }
      ],
      "source": [
        "import numpy as np\n",
        "\n",
        "# Создание массива размера (20, 2) с первым столбцом - целыми числами, начиная с 1, и вторым столбцом - первыми 20 нечетными числами, начиная с 3\n",
        "arr = np.zeros((20, 2), dtype=int)\n",
        "arr[:, 0] = np.arange(1, 21)\n",
        "arr[:, 1] = np.arange(3, 43, 2)\n",
        "\n",
        "# Нахождение среднего значения второго столбца\n",
        "mean_second_column = np.mean(arr[:, 1])\n",
        "\n",
        "print(\"Массив размера (20, 2):\")\n",
        "print(arr)\n",
        "print(\"Среднее значение второго столбца:\", mean_second_column)\n"
      ]
    }
  ],
  "metadata": {
    "colab": {
      "provenance": []
    },
    "kernelspec": {
      "display_name": "Python 3 (ipykernel)",
      "language": "python",
      "name": "python3"
    },
    "language_info": {
      "codemirror_mode": {
        "name": "ipython",
        "version": 3
      },
      "file_extension": ".py",
      "mimetype": "text/x-python",
      "name": "python",
      "nbconvert_exporter": "python",
      "pygments_lexer": "ipython3",
      "version": "3.11.7"
    }
  },
  "nbformat": 4,
  "nbformat_minor": 0
}