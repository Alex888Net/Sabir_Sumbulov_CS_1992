{
  "cells": [
    {
      "cell_type": "markdown",
      "metadata": {
        "id": "MH-3kVwvJYeP"
      },
      "source": [
        "# 2.9.4 Форматы файлов, кодировки и сохранение данных. Работа с файлами и каталогами"
      ]
    },
    {
      "cell_type": "markdown",
      "metadata": {
        "id": "gMwyKhlQJ1mf"
      },
      "source": [
        "## Задание 1"
      ]
    },
    {
      "cell_type": "markdown",
      "metadata": {
        "id": "Owu684lKKrjJ"
      },
      "source": [
        "**Условие:**\n",
        "Напишите собственный класс с несколькими атрибутами данных, создайте его экземпляр и запишите данный экземпляр класса в файл с использованием библиотеки ```pickle```. Считайте экземпляр из файла и проверьте его атрибуты.\n",
        "\n"
      ]
    },
    {
      "cell_type": "markdown",
      "metadata": {
        "id": "OCTvo3fHLaaJ"
      },
      "source": [
        "**Решение:**"
      ]
    },
    {
      "cell_type": "code",
      "source": [
        "import pickle\n",
        "\n",
        "# Определение класса\n",
        "class Person:\n",
        "    def __init__(self, name, age, city):\n",
        "        self.name = name\n",
        "        self.age = age\n",
        "        self.city = city\n",
        "\n",
        "# Создание экземпляра класса\n",
        "person_instance = Person(\"Alice\", 30, \"New York\")\n",
        "\n",
        "# Сохранение экземпляра класса в файл с помощью pickle\n",
        "file_name = 'person_instance.pickle'\n",
        "with open(file_name, 'wb') as f:\n",
        "    pickle.dump(person_instance, f)\n",
        "\n",
        "# Чтение экземпляра класса из файла\n",
        "with open(file_name, 'rb') as f:\n",
        "    loaded_person_instance = pickle.load(f)\n",
        "\n",
        "# Проверка атрибутов экземпляра после загрузки из файла\n",
        "print(\"Атрибуты экземпляра класса после загрузки из файла:\")\n",
        "print(\"Name:\", loaded_person_instance.name)\n",
        "print(\"Age:\", loaded_person_instance.age)\n",
        "print(\"City:\", loaded_person_instance.city)\n"
      ],
      "metadata": {
        "id": "9phVU3KYh47M",
        "outputId": "bdd7cfc6-84c2-4ac0-f563-7262d5795a18",
        "colab": {
          "base_uri": "https://localhost:8080/"
        }
      },
      "execution_count": null,
      "outputs": [
        {
          "output_type": "stream",
          "name": "stdout",
          "text": [
            "Атрибуты экземпляра класса после загрузки из файла:\n",
            "Name: Alice\n",
            "Age: 30\n",
            "City: New York\n"
          ]
        }
      ]
    },
    {
      "cell_type": "code",
      "execution_count": null,
      "metadata": {
        "colab": {
          "base_uri": "https://localhost:8080/"
        },
        "id": "f9_8IGndLeRO",
        "outputId": "22e59054-ad2b-48e0-d5e2-9044aa3c142a"
      },
      "outputs": [
        {
          "output_type": "stream",
          "name": "stdout",
          "text": [
            "Имя: Alice\n",
            "Возраст: 30\n"
          ]
        }
      ],
      "source": [
        "import pickle\n",
        "\n",
        "class Person:\n",
        "    def __init__(self, name, age):\n",
        "        self.name = name\n",
        "        self.age = age\n",
        "\n",
        "# Создание экземпляра класса Person\n",
        "person = Person(\"Alice\", 30)\n",
        "\n",
        "# Запись экземпляра в файл с помощью pickle\n",
        "with open(\"person.pickle\", \"wb\") as file:\n",
        "    pickle.dump(person, file)\n",
        "\n",
        "# Считывание экземпляра из файла\n",
        "with open(\"person.pickle\", \"rb\") as file:\n",
        "    loaded_person = pickle.load(file)\n",
        "\n",
        "# Проверка атрибутов загруженного экземпляра\n",
        "print(\"Имя:\", loaded_person.name)\n",
        "print(\"Возраст:\", loaded_person.age)"
      ]
    },
    {
      "cell_type": "markdown",
      "metadata": {
        "id": "g5S0h2-wKfGE"
      },
      "source": [
        "## Задание 2"
      ]
    },
    {
      "cell_type": "markdown",
      "metadata": {
        "id": "orX7BUzcPKKf"
      },
      "source": [
        "**Условие:**\n",
        "\n",
        "Методами модуля ```os``` cоставить статистику размера файлов ```*.csv``` папки ```sample_data``` из Google Colab. Составить словарь\n",
        "\n",
        "```\n",
        "size_dict = {'filename.csv':filename_size}\n",
        "```\n",
        "\n",
        "\n",
        "*   ```filename.csv``` - имя файла\n",
        "*   ```filename_size``` - размер файла\n",
        "\n",
        "\n"
      ]
    },
    {
      "cell_type": "markdown",
      "metadata": {
        "id": "ESSLfwqEPKKn"
      },
      "source": [
        "**Решение:**"
      ]
    },
    {
      "cell_type": "code",
      "execution_count": null,
      "metadata": {
        "colab": {
          "base_uri": "https://localhost:8080/"
        },
        "id": "y8HOlaNLPKKq",
        "outputId": "a424014a-59f1-4f02-b998-e2b0e97939ad"
      },
      "outputs": [
        {
          "output_type": "stream",
          "name": "stdout",
          "text": [
            "Статистика размеров файлов *.csv в папке 'sample_data':\n",
            "{'mnist_test.csv': 18289443, 'california_housing_test.csv': 301141, 'mnist_train_small.csv': 36523880, 'california_housing_train.csv': 1706430}\n"
          ]
        }
      ],
      "source": [
        "import os\n",
        "\n",
        "# Путь к папке 'sample_data' в Google Colab\n",
        "folder_path = \"/content/sample_data\"\n",
        "\n",
        "# Получение списка файлов в папке, фильтрация по *.csv\n",
        "csv_files = [f for f in os.listdir(folder_path) if f.endswith('.csv')]\n",
        "\n",
        "size_dict = {}\n",
        "\n",
        "# Получение статистики размера файлов *.csv в папке\n",
        "for file in csv_files:\n",
        "    file_path = os.path.join(folder_path, file)\n",
        "    size = os.path.getsize(file_path) # Размер файла в байтах\n",
        "    size_dict[file] = size\n",
        "\n",
        "# Вывод словаря с размерами файлов\n",
        "print(\"Статистика размеров файлов *.csv в папке 'sample_data':\")\n",
        "print(size_dict)"
      ]
    }
  ],
  "metadata": {
    "colab": {
      "provenance": []
    },
    "kernelspec": {
      "display_name": "Python 3 (ipykernel)",
      "language": "python",
      "name": "python3"
    },
    "language_info": {
      "codemirror_mode": {
        "name": "ipython",
        "version": 3
      },
      "file_extension": ".py",
      "mimetype": "text/x-python",
      "name": "python",
      "nbconvert_exporter": "python",
      "pygments_lexer": "ipython3",
      "version": "3.11.7"
    }
  },
  "nbformat": 4,
  "nbformat_minor": 0
}