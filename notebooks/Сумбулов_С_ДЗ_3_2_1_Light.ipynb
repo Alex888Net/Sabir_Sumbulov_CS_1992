{
  "cells": [
    {
      "cell_type": "markdown",
      "metadata": {
        "id": "MH-3kVwvJYeP"
      },
      "source": [
        "\n",
        "# 3.2.1 Быстрые поэлементные операции над массивами"
      ]
    },
    {
      "cell_type": "markdown",
      "metadata": {
        "id": "gMwyKhlQJ1mf"
      },
      "source": [
        "## Задание 1"
      ]
    },
    {
      "cell_type": "markdown",
      "metadata": {
        "id": "Owu684lKKrjJ"
      },
      "source": [
        "**Условие:**\n",
        "Создайте два произвольных целочисленных массива ```ndarray``` длины ```10``` и найдите поэлементную сумму их значений. Среди полученных значений найдите максимальное с использованием функции ```np.max()```.\n",
        "\n",
        "**Формат ответа:**\n",
        "Число (например, ```150```)\n"
      ]
    },
    {
      "cell_type": "markdown",
      "metadata": {
        "id": "OCTvo3fHLaaJ"
      },
      "source": [
        "**Решение:**"
      ]
    },
    {
      "cell_type": "code",
      "execution_count": null,
      "metadata": {
        "colab": {
          "base_uri": "https://localhost:8080/"
        },
        "id": "f9_8IGndLeRO",
        "outputId": "b0d1103d-8b43-4b72-9ff3-08261855beb0"
      },
      "outputs": [
        {
          "output_type": "stream",
          "name": "stdout",
          "text": [
            "Первый массив: [7 6 5 8 5 5 6 7 3 8]\n",
            "Второй массив: [6 9 6 2 3 9 2 1 3 6]\n",
            "Поэлементная сумма массивов: [13 15 11 10  8 14  8  8  6 14]\n",
            "Максимальное значение среди сумм: 15\n"
          ]
        }
      ],
      "source": [
        "import numpy as np\n",
        "\n",
        "# Создание двух произвольных массивов ndarray длины 10\n",
        "array1 = np.random.randint(1, 10, 10)\n",
        "array2 = np.random.randint(1, 10, 10)\n",
        "\n",
        "# Нахождение поэлементной суммы значений массивов\n",
        "sum_array = array1 + array2\n",
        "\n",
        "# Нахождение максимального значения среди полученных сумм\n",
        "max_sum = np.max(sum_array)\n",
        "\n",
        "print(\"Первый массив:\", array1)\n",
        "print(\"Второй массив:\", array2)\n",
        "print(\"Поэлементная сумма массивов:\", sum_array)\n",
        "print(\"Максимальное значение среди сумм:\", max_sum)\n"
      ]
    },
    {
      "cell_type": "markdown",
      "metadata": {
        "id": "g5S0h2-wKfGE"
      },
      "source": [
        "## Задание 2"
      ]
    },
    {
      "cell_type": "markdown",
      "metadata": {
        "id": "orX7BUzcPKKf"
      },
      "source": [
        "**Условие:**\n",
        "Создайте произвольный массив ```ndarray``` из 10 элементов типа ```float16```. Присутствие ненулевых дробных частей у элементов обязательно. С использованием методов ```numpy``` отделите дробные части элементов и найдите среди них максимальное значение.\n",
        "\n",
        "**Формат ответа:**\n",
        "Число (например, ```0.82```)\n",
        "\n"
      ]
    },
    {
      "cell_type": "markdown",
      "metadata": {
        "id": "ESSLfwqEPKKn"
      },
      "source": [
        "**Решение:**"
      ]
    },
    {
      "cell_type": "code",
      "execution_count": null,
      "metadata": {
        "colab": {
          "base_uri": "https://localhost:8080/"
        },
        "id": "y8HOlaNLPKKq",
        "outputId": "8a185b99-0b87-4929-aa27-f200f5e2f2b9"
      },
      "outputs": [
        {
          "output_type": "stream",
          "name": "stdout",
          "text": [
            "Массив элементов типа float16: [0.7485  0.8467  0.8525  0.1909  0.02975 0.394   0.2019  0.936   0.6187\n",
            " 0.05997]\n",
            "Дробные части элементов: [0.7485  0.8467  0.8525  0.1909  0.02975 0.394   0.2019  0.936   0.6187\n",
            " 0.05997]\n",
            "Максимальное значение среди дробных частей: 0.936\n"
          ]
        }
      ],
      "source": [
        "import numpy as np\n",
        "\n",
        "# Создание массива ndarray из 10 элементов типа float16\n",
        "array_float16 = np.random.rand(10).astype(np.float16)\n",
        "\n",
        "# Отделение дробных частей элементов\n",
        "fractional_parts = np.modf(array_float16)[0]\n",
        "\n",
        "# Нахождение максимального значения среди дробных частей\n",
        "max_fractional = np.max(fractional_parts)\n",
        "\n",
        "print(\"Массив элементов типа float16:\", array_float16)\n",
        "print(\"Дробные части элементов:\", fractional_parts)\n",
        "print(\"Максимальное значение среди дробных частей:\", max_fractional)\n"
      ]
    },
    {
      "cell_type": "markdown",
      "metadata": {
        "id": "tq0Fcrg1KfXQ"
      },
      "source": [
        "## Задание 3"
      ]
    },
    {
      "cell_type": "markdown",
      "metadata": {
        "id": "3xp-jyyHPMIb"
      },
      "source": [
        "**Условие:**\n",
        "Создайте два произвольных целочисленных массива ```ndarray``` длины ```10``` и найдите количество позиций, в которых значения массивов не совпадают при поэлементном сравнивании.\n",
        "\n",
        "**Формат ответа:**\n",
        "Число (например, ```5```)\n",
        "\n",
        "\n"
      ]
    },
    {
      "cell_type": "markdown",
      "metadata": {
        "id": "H5ZlBsI2PMIi"
      },
      "source": [
        "**Решение:**"
      ]
    },
    {
      "cell_type": "code",
      "execution_count": null,
      "metadata": {
        "colab": {
          "base_uri": "https://localhost:8080/"
        },
        "id": "6amsYUCoPMIn",
        "outputId": "0211bcc3-e389-46fa-b6cf-e789ccf82ceb"
      },
      "outputs": [
        {
          "output_type": "stream",
          "name": "stdout",
          "text": [
            "Первый массив: [9 3 4 3 9 6 4 3 4 2]\n",
            "Второй массив: [7 1 7 6 5 7 2 7 5 3]\n",
            "Количество позиций, в которых значения не совпадают: 10\n"
          ]
        }
      ],
      "source": [
        "import numpy as np\n",
        "\n",
        "# Создание двух произвольных массивов ndarray длины 10\n",
        "array1 = np.random.randint(1, 10, 10)\n",
        "array2 = np.random.randint(1, 10, 10)\n",
        "\n",
        "# Поэлементное сравнение массивов\n",
        "comparison = array1 != array2\n",
        "\n",
        "# Подсчет количества позиций, в которых значения не совпадают\n",
        "num_mismatches = np.sum(comparison)\n",
        "\n",
        "print(\"Первый массив:\", array1)\n",
        "print(\"Второй массив:\", array2)\n",
        "print(\"Количество позиций, в которых значения не совпадают:\", num_mismatches)\n"
      ]
    }
  ],
  "metadata": {
    "colab": {
      "provenance": []
    },
    "kernelspec": {
      "display_name": "Python 3 (ipykernel)",
      "language": "python",
      "name": "python3"
    },
    "language_info": {
      "codemirror_mode": {
        "name": "ipython",
        "version": 3
      },
      "file_extension": ".py",
      "mimetype": "text/x-python",
      "name": "python",
      "nbconvert_exporter": "python",
      "pygments_lexer": "ipython3",
      "version": "3.11.7"
    }
  },
  "nbformat": 4,
  "nbformat_minor": 0
}