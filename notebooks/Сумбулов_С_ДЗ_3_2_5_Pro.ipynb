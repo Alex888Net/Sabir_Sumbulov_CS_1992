{
  "cells": [
    {
      "cell_type": "markdown",
      "metadata": {
        "id": "MH-3kVwvJYeP"
      },
      "source": [
        "\n",
        "# 3.2.5 Файловый ввод-вывод массивов"
      ]
    },
    {
      "cell_type": "markdown",
      "metadata": {
        "id": "gMwyKhlQJ1mf"
      },
      "source": [
        "## Задание 1"
      ]
    },
    {
      "cell_type": "markdown",
      "metadata": {
        "id": "Owu684lKKrjJ"
      },
      "source": [
        "**Условие:**\n",
        "Создайте массив ```ndarray``` размера ```(15,15)``` элементов, взятых из стандартного нормального распределения. Запишите данный массив в файл в бинарном виде. Считайте массив из файла, с использованием целочисленного типа данных. Найдите абсолютное значение разности сумм элементов исходного массива и считанного из файла. Используйте ```np.random.seed(1000)``` перед генерацией массива для воспроизводимости результатов.\n",
        "\n",
        "**Формат ответа:**\n",
        "Число (например, ```102.4```)\n",
        "\n"
      ]
    },
    {
      "cell_type": "markdown",
      "metadata": {
        "id": "OCTvo3fHLaaJ"
      },
      "source": [
        "**Решение:**"
      ]
    },
    {
      "cell_type": "code",
      "execution_count": null,
      "metadata": {
        "colab": {
          "base_uri": "https://localhost:8080/"
        },
        "id": "f9_8IGndLeRO",
        "outputId": "5ea83b9a-af73-4190-a3be-fb70f09e85f9"
      },
      "outputs": [
        {
          "output_type": "stream",
          "name": "stdout",
          "text": [
            "Абсолютное значение разности сумм элементов исходного массива и считанного из файла: 0.0\n"
          ]
        }
      ],
      "source": [
        "import numpy as np\n",
        "\n",
        "np.random.seed(1000)\n",
        "\n",
        "# Создание массива размера (15, 15) со значениями из стандартного нормального распределения\n",
        "original_array = np.random.randn(15, 15)\n",
        "\n",
        "# Запись массива в файл в бинарном виде\n",
        "with open('norm_array.bin', 'wb') as f:\n",
        "    original_array.astype(np.float64).tofile(f)\n",
        "\n",
        "# Считывание массива из файла с использованием целочисленного типа данных\n",
        "loaded_array = np.fromfile('norm_array.bin', dtype=np.float64).reshape(15, 15)\n",
        "\n",
        "# Нахождение разности сумм элементов исходного массива и считанного из файла\n",
        "abs_diff_sum = np.abs(original_array.sum() - loaded_array.sum())\n",
        "\n",
        "print(\"Абсолютное значение разности сумм элементов исходного массива и считанного из файла:\", abs_diff_sum)\n"
      ]
    },
    {
      "cell_type": "markdown",
      "metadata": {
        "id": "g5S0h2-wKfGE"
      },
      "source": [
        "## Задание 2"
      ]
    },
    {
      "cell_type": "markdown",
      "metadata": {
        "id": "orX7BUzcPKKf"
      },
      "source": [
        "**Условие:**\n",
        "Создайте массив ```ndarray``` размера ```100```, взятых из стандартного нормального распределения. Запишите данный массив в файл в бинарном виде с использованием функций ```np.save()``` и ```np.savez_compressed()```. Найдите абсолютное значение разности байтовых размеров полученных файлов. Используйте ```np.random.seed(1000)``` перед генерацией массива для воспроизводимости результатов.\n",
        "\n",
        "**Формат ответа:**\n",
        "Число (например, ```45```)\n"
      ]
    },
    {
      "cell_type": "markdown",
      "metadata": {
        "id": "ESSLfwqEPKKn"
      },
      "source": [
        "**Решение:**"
      ]
    },
    {
      "cell_type": "code",
      "execution_count": null,
      "metadata": {
        "colab": {
          "base_uri": "https://localhost:8080/"
        },
        "id": "y8HOlaNLPKKq",
        "outputId": "a404f88f-be61-43b9-9846-163e13326f45"
      },
      "outputs": [
        {
          "output_type": "stream",
          "name": "stdout",
          "text": [
            "Абсолютное значение разности байтовых размеров полученных файлов: 124\n"
          ]
        }
      ],
      "source": [
        "import numpy as np\n",
        "import os\n",
        "\n",
        "np.random.seed(1000)\n",
        "\n",
        "# Создание массива размера 100 со значениями из стандартного нормального распределения\n",
        "data_array = np.random.randn(100)\n",
        "\n",
        "# Запись массива в файл в бинарном виде с использованием np.save()\n",
        "np.save('norm_array.npy', data_array)\n",
        "\n",
        "# Запись массива в файл в бинарном виде с использованием np.savez_compressed()\n",
        "np.savez_compressed('norm_array_compressed.npz', data_array=data_array)\n",
        "\n",
        "# Нахождение абсолютного значения разности байтовых размеров полученных файлов\n",
        "size_npys = os.path.getsize('norm_array.npy')\n",
        "size_npz = os.path.getsize('norm_array_compressed.npz')\n",
        "abs_size_diff = np.abs(size_npys - size_npz)\n",
        "\n",
        "print(\"Абсолютное значение разности байтовых размеров полученных файлов:\", abs_size_diff)\n"
      ]
    }
  ],
  "metadata": {
    "colab": {
      "provenance": []
    },
    "kernelspec": {
      "display_name": "Python 3 (ipykernel)",
      "language": "python",
      "name": "python3"
    },
    "language_info": {
      "codemirror_mode": {
        "name": "ipython",
        "version": 3
      },
      "file_extension": ".py",
      "mimetype": "text/x-python",
      "name": "python",
      "nbconvert_exporter": "python",
      "pygments_lexer": "ipython3",
      "version": "3.11.7"
    }
  },
  "nbformat": 4,
  "nbformat_minor": 0
}