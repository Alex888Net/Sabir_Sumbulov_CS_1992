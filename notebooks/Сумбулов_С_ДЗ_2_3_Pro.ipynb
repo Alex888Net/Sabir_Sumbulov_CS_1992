{
  "cells": [
    {
      "cell_type": "markdown",
      "metadata": {
        "id": "MH-3kVwvJYeP"
      },
      "source": [
        "# 2.3 Типы коллекций. Последовательности, множества, отображения"
      ]
    },
    {
      "cell_type": "markdown",
      "metadata": {
        "id": "gMwyKhlQJ1mf"
      },
      "source": [
        "## Задание 1"
      ]
    },
    {
      "cell_type": "markdown",
      "metadata": {
        "id": "Owu684lKKrjJ"
      },
      "source": [
        "**Условие:**\n",
        "Создайте кортеж из ```10```  произвольных значений. С помощью операции среза выведите только элементы с четными индексами.\n"
      ]
    },
    {
      "cell_type": "markdown",
      "metadata": {
        "id": "OCTvo3fHLaaJ"
      },
      "source": [
        "**Решение:**"
      ]
    },
    {
      "cell_type": "code",
      "execution_count": null,
      "metadata": {
        "colab": {
          "base_uri": "https://localhost:8080/"
        },
        "id": "f9_8IGndLeRO",
        "outputId": "8c69db63-0183-4d4b-e661-477632196f8c"
      },
      "outputs": [
        {
          "output_type": "stream",
          "name": "stdout",
          "text": [
            "(10, 30, 50, 70, 90)\n"
          ]
        }
      ],
      "source": [
        "# Создание кортежа из 10 произвольных значений\n",
        "my_tuple = (10, 20, 30, 40, 50, 60, 70, 80, 90, 100)\n",
        "\n",
        "# Вывод элементов с четными индексами с помощью среза\n",
        "even_index_elements = my_tuple[::2]\n",
        "print(even_index_elements)"
      ]
    },
    {
      "cell_type": "markdown",
      "metadata": {
        "id": "g5S0h2-wKfGE"
      },
      "source": [
        "## Задание 2"
      ]
    },
    {
      "cell_type": "markdown",
      "metadata": {
        "id": "orX7BUzcPKKf"
      },
      "source": [
        "**Условие:**\n",
        "Создайте список из ```10``` элементов, которые могут быть только ```0``` или ```1```. Примените к полученному списку операцию ```set()```."
      ]
    },
    {
      "cell_type": "markdown",
      "metadata": {
        "id": "ESSLfwqEPKKn"
      },
      "source": [
        "**Решение:**"
      ]
    },
    {
      "cell_type": "code",
      "execution_count": null,
      "metadata": {
        "colab": {
          "base_uri": "https://localhost:8080/"
        },
        "id": "y8HOlaNLPKKq",
        "outputId": "16e4b7d3-acd4-4e78-ddd6-224dabb06e76"
      },
      "outputs": [
        {
          "output_type": "stream",
          "name": "stdout",
          "text": [
            "{0, 1}\n"
          ]
        }
      ],
      "source": [
        "# Создание списка из 10 элементов, содержащих только 0 или 1\n",
        "my_list = [0, 1, 1, 0, 1, 0, 0, 1, 1, 0]\n",
        "\n",
        "# Применение операции set() к списку\n",
        "unique_values = set(my_list)\n",
        "\n",
        "print(unique_values)"
      ]
    },
    {
      "cell_type": "markdown",
      "metadata": {
        "id": "tq0Fcrg1KfXQ"
      },
      "source": [
        "## Задание 3"
      ]
    },
    {
      "cell_type": "markdown",
      "metadata": {
        "id": "3xp-jyyHPMIb"
      },
      "source": [
        "**Условие:**\n",
        "Создайте словарь из ```5``` сотрудников, где ключ - это имя сотрудника, а значение - его заработная плата. Добавьте в него несколько сотрудников. В цикле проиндексируйте зарплату всем сотрудникам на ```10%```.\n"
      ]
    },
    {
      "cell_type": "markdown",
      "metadata": {
        "id": "H5ZlBsI2PMIi"
      },
      "source": [
        "**Решение:**"
      ]
    },
    {
      "cell_type": "code",
      "execution_count": null,
      "metadata": {
        "colab": {
          "base_uri": "https://localhost:8080/"
        },
        "id": "6amsYUCoPMIn",
        "outputId": "47ac2197-b648-44e4-97ac-f71c33aa042f"
      },
      "outputs": [
        {
          "output_type": "stream",
          "name": "stdout",
          "text": [
            "{'Андрей': 55000.00000000001, 'Дмитрий': 66000.0, 'Сабир': 77000.0, 'Амир': 60500.00000000001, 'Мухаммадкодыр': 71500.0, 'Карим': 57200.00000000001, 'Любовь': 63800.00000000001}\n"
          ]
        }
      ],
      "source": [
        "# Создание словаря из 5 сотрудников\n",
        "employees = {\n",
        "    \"Андрей\": 50000,\n",
        "    \"Дмитрий\": 60000,\n",
        "    \"Сабир\": 70000,\n",
        "    \"Амир\": 55000,\n",
        "    \"Мухаммадкодыр\": 65000\n",
        "}\n",
        "\n",
        "# Добавление новых сотрудников\n",
        "employees[\"Карим\"] = 52000\n",
        "employees[\"Любовь\"] = 58000\n",
        "\n",
        "# Цикл для увеличения зарплаты на 10%\n",
        "for employee, salary in employees.items():\n",
        "    employees[employee] = salary * 1.10\n",
        "\n",
        "print(employees)"
      ]
    }
  ],
  "metadata": {
    "colab": {
      "provenance": []
    },
    "kernelspec": {
      "display_name": "Python 3 (ipykernel)",
      "language": "python",
      "name": "python3"
    },
    "language_info": {
      "codemirror_mode": {
        "name": "ipython",
        "version": 3
      },
      "file_extension": ".py",
      "mimetype": "text/x-python",
      "name": "python",
      "nbconvert_exporter": "python",
      "pygments_lexer": "ipython3",
      "version": "3.11.7"
    }
  },
  "nbformat": 4,
  "nbformat_minor": 0
}